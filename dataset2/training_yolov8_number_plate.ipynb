{
 "cells": [
  {
   "cell_type": "code",
   "execution_count": 2,
   "id": "dea1a69e",
   "metadata": {},
   "outputs": [
    {
     "name": "stdout",
     "output_type": "stream",
     "text": [
      "Downloading https://github.com/ultralytics/assets/releases/download/v8.3.0/yolov8n.pt to 'yolov8n.pt'...\n",
      "Downloading https://github.com/ultralytics/assets/releases/download/v8.3.0/yolov8n.pt to 'yolov8n.pt'...\n"
     ]
    },
    {
     "name": "stderr",
     "output_type": "stream",
     "text": [
      "100%|█████████████████████████████████████████████████████████████████████████████| 6.25M/6.25M [00:01<00:00, 4.73MB/s]\n"
     ]
    },
    {
     "name": "stdout",
     "output_type": "stream",
     "text": [
      "New https://pypi.org/project/ultralytics/8.3.32 available  Update with 'pip install -U ultralytics'\n",
      "New https://pypi.org/project/ultralytics/8.3.32 available  Update with 'pip install -U ultralytics'\n",
      "Ultralytics 8.3.29  Python-3.11.5 torch-2.5.1+cpu CPU (AMD Ryzen 5 5600H with Radeon Graphics)\n",
      "Ultralytics 8.3.29  Python-3.11.5 torch-2.5.1+cpu CPU (AMD Ryzen 5 5600H with Radeon Graphics)\n",
      "\u001b[34m\u001b[1mengine\\trainer: \u001b[0mtask=detect, mode=train, model=yolov8n.pt, data=C:\\Users\\user\\Desktop\\folder\\dataset2\\dataset2.yaml, epochs=10, time=None, patience=100, batch=8, imgsz=640, save=True, save_period=-1, cache=False, device=None, workers=8, project=None, name=yolov8_helmet, exist_ok=False, pretrained=True, optimizer=auto, verbose=True, seed=0, deterministic=True, single_cls=False, rect=False, cos_lr=False, close_mosaic=10, resume=False, amp=True, fraction=1.0, profile=False, freeze=None, multi_scale=False, overlap_mask=True, mask_ratio=4, dropout=0.0, val=True, split=val, save_json=False, save_hybrid=False, conf=None, iou=0.7, max_det=300, half=False, dnn=False, plots=True, source=None, vid_stride=1, stream_buffer=False, visualize=False, augment=False, agnostic_nms=False, classes=None, retina_masks=False, embed=None, show=False, save_frames=False, save_txt=False, save_conf=False, save_crop=False, show_labels=True, show_conf=True, show_boxes=True, line_width=None, format=torchscript, keras=False, optimize=False, int8=False, dynamic=False, simplify=True, opset=None, workspace=4, nms=False, lr0=0.01, lrf=0.01, momentum=0.937, weight_decay=0.0005, warmup_epochs=3.0, warmup_momentum=0.8, warmup_bias_lr=0.1, box=7.5, cls=0.5, dfl=1.5, pose=12.0, kobj=1.0, label_smoothing=0.0, nbs=64, hsv_h=0.015, hsv_s=0.7, hsv_v=0.4, degrees=0.0, translate=0.1, scale=0.5, shear=0.0, perspective=0.0, flipud=0.0, fliplr=0.5, bgr=0.0, mosaic=1.0, mixup=0.0, copy_paste=0.0, copy_paste_mode=flip, auto_augment=randaugment, erasing=0.4, crop_fraction=1.0, cfg=None, tracker=botsort.yaml, save_dir=runs\\detect\\yolov8_helmet\n",
      "\u001b[34m\u001b[1mengine\\trainer: \u001b[0mtask=detect, mode=train, model=yolov8n.pt, data=C:\\Users\\user\\Desktop\\folder\\dataset2\\dataset2.yaml, epochs=10, time=None, patience=100, batch=8, imgsz=640, save=True, save_period=-1, cache=False, device=None, workers=8, project=None, name=yolov8_helmet, exist_ok=False, pretrained=True, optimizer=auto, verbose=True, seed=0, deterministic=True, single_cls=False, rect=False, cos_lr=False, close_mosaic=10, resume=False, amp=True, fraction=1.0, profile=False, freeze=None, multi_scale=False, overlap_mask=True, mask_ratio=4, dropout=0.0, val=True, split=val, save_json=False, save_hybrid=False, conf=None, iou=0.7, max_det=300, half=False, dnn=False, plots=True, source=None, vid_stride=1, stream_buffer=False, visualize=False, augment=False, agnostic_nms=False, classes=None, retina_masks=False, embed=None, show=False, save_frames=False, save_txt=False, save_conf=False, save_crop=False, show_labels=True, show_conf=True, show_boxes=True, line_width=None, format=torchscript, keras=False, optimize=False, int8=False, dynamic=False, simplify=True, opset=None, workspace=4, nms=False, lr0=0.01, lrf=0.01, momentum=0.937, weight_decay=0.0005, warmup_epochs=3.0, warmup_momentum=0.8, warmup_bias_lr=0.1, box=7.5, cls=0.5, dfl=1.5, pose=12.0, kobj=1.0, label_smoothing=0.0, nbs=64, hsv_h=0.015, hsv_s=0.7, hsv_v=0.4, degrees=0.0, translate=0.1, scale=0.5, shear=0.0, perspective=0.0, flipud=0.0, fliplr=0.5, bgr=0.0, mosaic=1.0, mixup=0.0, copy_paste=0.0, copy_paste_mode=flip, auto_augment=randaugment, erasing=0.4, crop_fraction=1.0, cfg=None, tracker=botsort.yaml, save_dir=runs\\detect\\yolov8_helmet\n",
      "WARNING:tensorflow:From C:\\Users\\user\\anaconda\\Lib\\site-packages\\keras\\src\\losses.py:2976: The name tf.losses.sparse_softmax_cross_entropy is deprecated. Please use tf.compat.v1.losses.sparse_softmax_cross_entropy instead.\n",
      "\n",
      "Overriding model.yaml nc=80 with nc=1\n",
      "Overriding model.yaml nc=80 with nc=1\n",
      "\n",
      "                   from  n    params  module                                       arguments                     \n",
      "\n",
      "                   from  n    params  module                                       arguments                     \n",
      "  0                  -1  1       464  ultralytics.nn.modules.conv.Conv             [3, 16, 3, 2]                 \n",
      "  0                  -1  1       464  ultralytics.nn.modules.conv.Conv             [3, 16, 3, 2]                 \n",
      "  1                  -1  1      4672  ultralytics.nn.modules.conv.Conv             [16, 32, 3, 2]                \n",
      "  1                  -1  1      4672  ultralytics.nn.modules.conv.Conv             [16, 32, 3, 2]                \n",
      "  2                  -1  1      7360  ultralytics.nn.modules.block.C2f             [32, 32, 1, True]             \n",
      "  2                  -1  1      7360  ultralytics.nn.modules.block.C2f             [32, 32, 1, True]             \n",
      "  3                  -1  1     18560  ultralytics.nn.modules.conv.Conv             [32, 64, 3, 2]                \n",
      "  3                  -1  1     18560  ultralytics.nn.modules.conv.Conv             [32, 64, 3, 2]                \n",
      "  4                  -1  2     49664  ultralytics.nn.modules.block.C2f             [64, 64, 2, True]             \n",
      "  4                  -1  2     49664  ultralytics.nn.modules.block.C2f             [64, 64, 2, True]             \n",
      "  5                  -1  1     73984  ultralytics.nn.modules.conv.Conv             [64, 128, 3, 2]               \n",
      "  5                  -1  1     73984  ultralytics.nn.modules.conv.Conv             [64, 128, 3, 2]               \n",
      "  6                  -1  2    197632  ultralytics.nn.modules.block.C2f             [128, 128, 2, True]           \n",
      "  6                  -1  2    197632  ultralytics.nn.modules.block.C2f             [128, 128, 2, True]           \n",
      "  7                  -1  1    295424  ultralytics.nn.modules.conv.Conv             [128, 256, 3, 2]              \n",
      "  7                  -1  1    295424  ultralytics.nn.modules.conv.Conv             [128, 256, 3, 2]              \n",
      "  8                  -1  1    460288  ultralytics.nn.modules.block.C2f             [256, 256, 1, True]           \n",
      "  8                  -1  1    460288  ultralytics.nn.modules.block.C2f             [256, 256, 1, True]           \n",
      "  9                  -1  1    164608  ultralytics.nn.modules.block.SPPF            [256, 256, 5]                 \n",
      "  9                  -1  1    164608  ultralytics.nn.modules.block.SPPF            [256, 256, 5]                 \n",
      " 10                  -1  1         0  torch.nn.modules.upsampling.Upsample         [None, 2, 'nearest']          \n",
      " 10                  -1  1         0  torch.nn.modules.upsampling.Upsample         [None, 2, 'nearest']          \n",
      " 11             [-1, 6]  1         0  ultralytics.nn.modules.conv.Concat           [1]                           \n",
      " 11             [-1, 6]  1         0  ultralytics.nn.modules.conv.Concat           [1]                           \n",
      " 12                  -1  1    148224  ultralytics.nn.modules.block.C2f             [384, 128, 1]                 \n",
      " 12                  -1  1    148224  ultralytics.nn.modules.block.C2f             [384, 128, 1]                 \n",
      " 13                  -1  1         0  torch.nn.modules.upsampling.Upsample         [None, 2, 'nearest']          \n",
      " 13                  -1  1         0  torch.nn.modules.upsampling.Upsample         [None, 2, 'nearest']          \n",
      " 14             [-1, 4]  1         0  ultralytics.nn.modules.conv.Concat           [1]                           \n",
      " 14             [-1, 4]  1         0  ultralytics.nn.modules.conv.Concat           [1]                           \n",
      " 15                  -1  1     37248  ultralytics.nn.modules.block.C2f             [192, 64, 1]                  \n",
      " 15                  -1  1     37248  ultralytics.nn.modules.block.C2f             [192, 64, 1]                  \n",
      " 16                  -1  1     36992  ultralytics.nn.modules.conv.Conv             [64, 64, 3, 2]                \n",
      " 16                  -1  1     36992  ultralytics.nn.modules.conv.Conv             [64, 64, 3, 2]                \n",
      " 17            [-1, 12]  1         0  ultralytics.nn.modules.conv.Concat           [1]                           \n",
      " 17            [-1, 12]  1         0  ultralytics.nn.modules.conv.Concat           [1]                           \n"
     ]
    },
    {
     "name": "stdout",
     "output_type": "stream",
     "text": [
      " 18                  -1  1    123648  ultralytics.nn.modules.block.C2f             [192, 128, 1]                 \n",
      " 18                  -1  1    123648  ultralytics.nn.modules.block.C2f             [192, 128, 1]                 \n",
      " 19                  -1  1    147712  ultralytics.nn.modules.conv.Conv             [128, 128, 3, 2]              \n",
      " 19                  -1  1    147712  ultralytics.nn.modules.conv.Conv             [128, 128, 3, 2]              \n",
      " 20             [-1, 9]  1         0  ultralytics.nn.modules.conv.Concat           [1]                           \n",
      " 20             [-1, 9]  1         0  ultralytics.nn.modules.conv.Concat           [1]                           \n",
      " 21                  -1  1    493056  ultralytics.nn.modules.block.C2f             [384, 256, 1]                 \n",
      " 21                  -1  1    493056  ultralytics.nn.modules.block.C2f             [384, 256, 1]                 \n",
      " 22        [15, 18, 21]  1    751507  ultralytics.nn.modules.head.Detect           [1, [64, 128, 256]]           \n",
      " 22        [15, 18, 21]  1    751507  ultralytics.nn.modules.head.Detect           [1, [64, 128, 256]]           \n",
      "Model summary: 225 layers, 3,011,043 parameters, 3,011,027 gradients, 8.2 GFLOPs\n",
      "Model summary: 225 layers, 3,011,043 parameters, 3,011,027 gradients, 8.2 GFLOPs\n",
      "\n",
      "\n",
      "Transferred 319/355 items from pretrained weights\n",
      "Transferred 319/355 items from pretrained weights\n",
      "\u001b[34m\u001b[1mTensorBoard: \u001b[0mStart with 'tensorboard --logdir runs\\detect\\yolov8_helmet', view at http://localhost:6006/\n",
      "\u001b[34m\u001b[1mTensorBoard: \u001b[0mStart with 'tensorboard --logdir runs\\detect\\yolov8_helmet', view at http://localhost:6006/\n",
      "Freezing layer 'model.22.dfl.conv.weight'\n",
      "Freezing layer 'model.22.dfl.conv.weight'\n"
     ]
    },
    {
     "name": "stderr",
     "output_type": "stream",
     "text": [
      "\u001b[34m\u001b[1mtrain: \u001b[0mScanning C:\\Users\\user\\Desktop\\folder\\dataset2\\number_plate\\train\\labels... 98 images, 0 backgrounds, 0 corrupt:\u001b[0m"
     ]
    },
    {
     "name": "stdout",
     "output_type": "stream",
     "text": [
      "\u001b[34m\u001b[1mtrain: \u001b[0mNew cache created: C:\\Users\\user\\Desktop\\folder\\dataset2\\number_plate\\train\\labels.cache\n",
      "\u001b[34m\u001b[1mtrain: \u001b[0mNew cache created: C:\\Users\\user\\Desktop\\folder\\dataset2\\number_plate\\train\\labels.cache\n"
     ]
    },
    {
     "name": "stderr",
     "output_type": "stream",
     "text": [
      "\n",
      "\u001b[34m\u001b[1mval: \u001b[0mScanning C:\\Users\\user\\Desktop\\folder\\dataset2\\number_plate\\valid\\labels... 28 images, 0 backgrounds, 0 corrupt: 1\u001b[0m\n"
     ]
    },
    {
     "name": "stdout",
     "output_type": "stream",
     "text": [
      "\u001b[34m\u001b[1mval: \u001b[0mNew cache created: C:\\Users\\user\\Desktop\\folder\\dataset2\\number_plate\\valid\\labels.cache\n",
      "\u001b[34m\u001b[1mval: \u001b[0mNew cache created: C:\\Users\\user\\Desktop\\folder\\dataset2\\number_plate\\valid\\labels.cache\n",
      "Plotting labels to runs\\detect\\yolov8_helmet\\labels.jpg... \n",
      "Plotting labels to runs\\detect\\yolov8_helmet\\labels.jpg... \n",
      "\u001b[34m\u001b[1moptimizer:\u001b[0m 'optimizer=auto' found, ignoring 'lr0=0.01' and 'momentum=0.937' and determining best 'optimizer', 'lr0' and 'momentum' automatically... \n",
      "\u001b[34m\u001b[1moptimizer:\u001b[0m 'optimizer=auto' found, ignoring 'lr0=0.01' and 'momentum=0.937' and determining best 'optimizer', 'lr0' and 'momentum' automatically... \n",
      "\u001b[34m\u001b[1moptimizer:\u001b[0m AdamW(lr=0.002, momentum=0.9) with parameter groups 57 weight(decay=0.0), 64 weight(decay=0.0005), 63 bias(decay=0.0)\n",
      "\u001b[34m\u001b[1moptimizer:\u001b[0m AdamW(lr=0.002, momentum=0.9) with parameter groups 57 weight(decay=0.0), 64 weight(decay=0.0005), 63 bias(decay=0.0)\n",
      "\u001b[34m\u001b[1mTensorBoard: \u001b[0mmodel graph visualization added \n",
      "\u001b[34m\u001b[1mTensorBoard: \u001b[0mmodel graph visualization added \n",
      "Image sizes 640 train, 640 val\n",
      "Using 0 dataloader workers\n",
      "Logging results to \u001b[1mruns\\detect\\yolov8_helmet\u001b[0m\n",
      "Starting training for 10 epochs...\n",
      "Image sizes 640 train, 640 val\n",
      "Using 0 dataloader workers\n",
      "Logging results to \u001b[1mruns\\detect\\yolov8_helmet\u001b[0m\n",
      "Starting training for 10 epochs...\n",
      "Closing dataloader mosaic\n",
      "Closing dataloader mosaic\n",
      "\n",
      "      Epoch    GPU_mem   box_loss   cls_loss   dfl_loss  Instances       Size\n",
      "\n",
      "      Epoch    GPU_mem   box_loss   cls_loss   dfl_loss  Instances       Size\n"
     ]
    },
    {
     "name": "stderr",
     "output_type": "stream",
     "text": [
      "       1/10         0G      1.984      4.179      2.156          2        640: 100%|██████████| 13/13 [01:25<00:00,  6.\n",
      "                 Class     Images  Instances      Box(P          R      mAP50  mAP50-95): 100%|██████████| 2/2 [00:09<0"
     ]
    },
    {
     "name": "stdout",
     "output_type": "stream",
     "text": [
      "                   all         28         29    0.00345          1      0.364       0.19\n",
      "                   all         28         29    0.00345          1      0.364       0.19\n"
     ]
    },
    {
     "name": "stderr",
     "output_type": "stream",
     "text": [
      "\n"
     ]
    },
    {
     "name": "stdout",
     "output_type": "stream",
     "text": [
      "\n",
      "      Epoch    GPU_mem   box_loss   cls_loss   dfl_loss  Instances       Size\n",
      "\n",
      "      Epoch    GPU_mem   box_loss   cls_loss   dfl_loss  Instances       Size\n"
     ]
    },
    {
     "name": "stderr",
     "output_type": "stream",
     "text": [
      "       2/10         0G      1.738      3.129      1.887          2        640: 100%|██████████| 13/13 [01:18<00:00,  6.\n",
      "                 Class     Images  Instances      Box(P          R      mAP50  mAP50-95): 100%|██████████| 2/2 [00:07<0"
     ]
    },
    {
     "name": "stdout",
     "output_type": "stream",
     "text": [
      "                   all         28         29    0.00345          1      0.368      0.142\n",
      "                   all         28         29    0.00345          1      0.368      0.142\n"
     ]
    },
    {
     "name": "stderr",
     "output_type": "stream",
     "text": [
      "\n"
     ]
    },
    {
     "name": "stdout",
     "output_type": "stream",
     "text": [
      "\n",
      "      Epoch    GPU_mem   box_loss   cls_loss   dfl_loss  Instances       Size\n",
      "\n",
      "      Epoch    GPU_mem   box_loss   cls_loss   dfl_loss  Instances       Size\n"
     ]
    },
    {
     "name": "stderr",
     "output_type": "stream",
     "text": [
      "       3/10         0G      1.661      2.692      1.914          2        640: 100%|██████████| 13/13 [01:11<00:00,  5.\n",
      "                 Class     Images  Instances      Box(P          R      mAP50  mAP50-95): 100%|██████████| 2/2 [00:07<0"
     ]
    },
    {
     "name": "stdout",
     "output_type": "stream",
     "text": [
      "                   all         28         29    0.00345          1       0.35      0.167\n",
      "                   all         28         29    0.00345          1       0.35      0.167\n"
     ]
    },
    {
     "name": "stderr",
     "output_type": "stream",
     "text": [
      "\n"
     ]
    },
    {
     "name": "stdout",
     "output_type": "stream",
     "text": [
      "\n",
      "      Epoch    GPU_mem   box_loss   cls_loss   dfl_loss  Instances       Size\n",
      "\n",
      "      Epoch    GPU_mem   box_loss   cls_loss   dfl_loss  Instances       Size\n"
     ]
    },
    {
     "name": "stderr",
     "output_type": "stream",
     "text": [
      "       4/10         0G      1.738      2.621      1.998          2        640: 100%|██████████| 13/13 [01:25<00:00,  6.\n",
      "                 Class     Images  Instances      Box(P          R      mAP50  mAP50-95): 100%|██████████| 2/2 [00:06<0"
     ]
    },
    {
     "name": "stdout",
     "output_type": "stream",
     "text": [
      "                   all         28         29    0.00731          1      0.513      0.204\n",
      "                   all         28         29    0.00731          1      0.513      0.204\n"
     ]
    },
    {
     "name": "stderr",
     "output_type": "stream",
     "text": [
      "\n"
     ]
    },
    {
     "name": "stdout",
     "output_type": "stream",
     "text": [
      "\n",
      "      Epoch    GPU_mem   box_loss   cls_loss   dfl_loss  Instances       Size\n",
      "\n",
      "      Epoch    GPU_mem   box_loss   cls_loss   dfl_loss  Instances       Size\n"
     ]
    },
    {
     "name": "stderr",
     "output_type": "stream",
     "text": [
      "       5/10         0G      1.603      2.486      1.815          2        640: 100%|██████████| 13/13 [01:13<00:00,  5.\n",
      "                 Class     Images  Instances      Box(P          R      mAP50  mAP50-95): 100%|██████████| 2/2 [00:08<0"
     ]
    },
    {
     "name": "stdout",
     "output_type": "stream",
     "text": [
      "                   all         28         29      0.485      0.241      0.425      0.152\n",
      "                   all         28         29      0.485      0.241      0.425      0.152\n"
     ]
    },
    {
     "name": "stderr",
     "output_type": "stream",
     "text": [
      "\n"
     ]
    },
    {
     "name": "stdout",
     "output_type": "stream",
     "text": [
      "\n",
      "      Epoch    GPU_mem   box_loss   cls_loss   dfl_loss  Instances       Size\n",
      "\n",
      "      Epoch    GPU_mem   box_loss   cls_loss   dfl_loss  Instances       Size\n"
     ]
    },
    {
     "name": "stderr",
     "output_type": "stream",
     "text": [
      "       6/10         0G      1.636      2.497      1.825          2        640: 100%|██████████| 13/13 [01:26<00:00,  6.\n",
      "                 Class     Images  Instances      Box(P          R      mAP50  mAP50-95): 100%|██████████| 2/2 [00:10<0"
     ]
    },
    {
     "name": "stdout",
     "output_type": "stream",
     "text": [
      "                   all         28         29      0.759      0.517      0.709      0.294\n",
      "                   all         28         29      0.759      0.517      0.709      0.294\n"
     ]
    },
    {
     "name": "stderr",
     "output_type": "stream",
     "text": [
      "\n"
     ]
    },
    {
     "name": "stdout",
     "output_type": "stream",
     "text": [
      "\n",
      "      Epoch    GPU_mem   box_loss   cls_loss   dfl_loss  Instances       Size\n",
      "\n",
      "      Epoch    GPU_mem   box_loss   cls_loss   dfl_loss  Instances       Size\n"
     ]
    },
    {
     "name": "stderr",
     "output_type": "stream",
     "text": [
      "       7/10         0G      1.553      2.354      1.704          2        640: 100%|██████████| 13/13 [02:31<00:00, 11.\n",
      "                 Class     Images  Instances      Box(P          R      mAP50  mAP50-95): 100%|██████████| 2/2 [00:11<0"
     ]
    },
    {
     "name": "stdout",
     "output_type": "stream",
     "text": [
      "                   all         28         29      0.755      0.724      0.752      0.287\n",
      "                   all         28         29      0.755      0.724      0.752      0.287\n"
     ]
    },
    {
     "name": "stderr",
     "output_type": "stream",
     "text": [
      "\n"
     ]
    },
    {
     "name": "stdout",
     "output_type": "stream",
     "text": [
      "\n",
      "      Epoch    GPU_mem   box_loss   cls_loss   dfl_loss  Instances       Size\n",
      "\n",
      "      Epoch    GPU_mem   box_loss   cls_loss   dfl_loss  Instances       Size\n"
     ]
    },
    {
     "name": "stderr",
     "output_type": "stream",
     "text": [
      "       8/10         0G       1.56      2.271      1.685          2        640: 100%|██████████| 13/13 [01:44<00:00,  8.\n",
      "                 Class     Images  Instances      Box(P          R      mAP50  mAP50-95): 100%|██████████| 2/2 [00:08<0"
     ]
    },
    {
     "name": "stdout",
     "output_type": "stream",
     "text": [
      "                   all         28         29      0.689      0.686      0.728      0.295\n",
      "                   all         28         29      0.689      0.686      0.728      0.295\n"
     ]
    },
    {
     "name": "stderr",
     "output_type": "stream",
     "text": [
      "\n"
     ]
    },
    {
     "name": "stdout",
     "output_type": "stream",
     "text": [
      "\n",
      "      Epoch    GPU_mem   box_loss   cls_loss   dfl_loss  Instances       Size\n",
      "\n",
      "      Epoch    GPU_mem   box_loss   cls_loss   dfl_loss  Instances       Size\n"
     ]
    },
    {
     "name": "stderr",
     "output_type": "stream",
     "text": [
      "       9/10         0G      1.509       2.21      1.583          2        640: 100%|██████████| 13/13 [01:40<00:00,  7.\n",
      "                 Class     Images  Instances      Box(P          R      mAP50  mAP50-95): 100%|██████████| 2/2 [00:07<0"
     ]
    },
    {
     "name": "stdout",
     "output_type": "stream",
     "text": [
      "                   all         28         29      0.803      0.701      0.779      0.365\n",
      "                   all         28         29      0.803      0.701      0.779      0.365\n"
     ]
    },
    {
     "name": "stderr",
     "output_type": "stream",
     "text": [
      "\n"
     ]
    },
    {
     "name": "stdout",
     "output_type": "stream",
     "text": [
      "\n",
      "      Epoch    GPU_mem   box_loss   cls_loss   dfl_loss  Instances       Size\n",
      "\n",
      "      Epoch    GPU_mem   box_loss   cls_loss   dfl_loss  Instances       Size\n"
     ]
    },
    {
     "name": "stderr",
     "output_type": "stream",
     "text": [
      "      10/10         0G      1.419      2.046      1.568          2        640: 100%|██████████| 13/13 [01:41<00:00,  7.\n",
      "                 Class     Images  Instances      Box(P          R      mAP50  mAP50-95): 100%|██████████| 2/2 [00:09<0"
     ]
    },
    {
     "name": "stdout",
     "output_type": "stream",
     "text": [
      "                   all         28         29      0.837       0.71      0.775      0.368\n",
      "                   all         28         29      0.837       0.71      0.775      0.368\n"
     ]
    },
    {
     "name": "stderr",
     "output_type": "stream",
     "text": [
      "\n"
     ]
    },
    {
     "name": "stdout",
     "output_type": "stream",
     "text": [
      "\n",
      "10 epochs completed in 0.301 hours.\n",
      "\n",
      "10 epochs completed in 0.301 hours.\n",
      "Optimizer stripped from runs\\detect\\yolov8_helmet\\weights\\last.pt, 6.2MB\n",
      "Optimizer stripped from runs\\detect\\yolov8_helmet\\weights\\last.pt, 6.2MB\n",
      "Optimizer stripped from runs\\detect\\yolov8_helmet\\weights\\best.pt, 6.2MB\n",
      "Optimizer stripped from runs\\detect\\yolov8_helmet\\weights\\best.pt, 6.2MB\n",
      "\n",
      "Validating runs\\detect\\yolov8_helmet\\weights\\best.pt...\n",
      "\n",
      "Validating runs\\detect\\yolov8_helmet\\weights\\best.pt...\n",
      "Ultralytics 8.3.29  Python-3.11.5 torch-2.5.1+cpu CPU (AMD Ryzen 5 5600H with Radeon Graphics)\n",
      "Ultralytics 8.3.29  Python-3.11.5 torch-2.5.1+cpu CPU (AMD Ryzen 5 5600H with Radeon Graphics)\n",
      "Model summary (fused): 168 layers, 3,005,843 parameters, 0 gradients, 8.1 GFLOPs\n",
      "Model summary (fused): 168 layers, 3,005,843 parameters, 0 gradients, 8.1 GFLOPs\n"
     ]
    },
    {
     "name": "stderr",
     "output_type": "stream",
     "text": [
      "                 Class     Images  Instances      Box(P          R      mAP50  mAP50-95): 100%|██████████| 2/2 [00:06<0\n"
     ]
    },
    {
     "name": "stdout",
     "output_type": "stream",
     "text": [
      "                   all         28         29      0.837       0.71      0.775      0.368\n",
      "                   all         28         29      0.837       0.71      0.775      0.368\n",
      "Speed: 9.7ms preprocess, 185.0ms inference, 0.0ms loss, 9.0ms postprocess per image\n",
      "Speed: 9.7ms preprocess, 185.0ms inference, 0.0ms loss, 9.0ms postprocess per image\n",
      "Results saved to \u001b[1mruns\\detect\\yolov8_helmet\u001b[0m\n",
      "Results saved to \u001b[1mruns\\detect\\yolov8_helmet\u001b[0m\n"
     ]
    },
    {
     "data": {
      "text/plain": [
       "ultralytics.utils.metrics.DetMetrics object with attributes:\n",
       "\n",
       "ap_class_index: array([0])\n",
       "box: ultralytics.utils.metrics.Metric object\n",
       "confusion_matrix: <ultralytics.utils.metrics.ConfusionMatrix object at 0x00000277DD74EBD0>\n",
       "curves: ['Precision-Recall(B)', 'F1-Confidence(B)', 'Precision-Confidence(B)', 'Recall-Confidence(B)']\n",
       "curves_results: [[array([          0,    0.001001,    0.002002,    0.003003,    0.004004,    0.005005,    0.006006,    0.007007,    0.008008,    0.009009,     0.01001,    0.011011,    0.012012,    0.013013,    0.014014,    0.015015,    0.016016,    0.017017,    0.018018,    0.019019,     0.02002,    0.021021,    0.022022,    0.023023,\n",
       "          0.024024,    0.025025,    0.026026,    0.027027,    0.028028,    0.029029,     0.03003,    0.031031,    0.032032,    0.033033,    0.034034,    0.035035,    0.036036,    0.037037,    0.038038,    0.039039,     0.04004,    0.041041,    0.042042,    0.043043,    0.044044,    0.045045,    0.046046,    0.047047,\n",
       "          0.048048,    0.049049,     0.05005,    0.051051,    0.052052,    0.053053,    0.054054,    0.055055,    0.056056,    0.057057,    0.058058,    0.059059,     0.06006,    0.061061,    0.062062,    0.063063,    0.064064,    0.065065,    0.066066,    0.067067,    0.068068,    0.069069,     0.07007,    0.071071,\n",
       "          0.072072,    0.073073,    0.074074,    0.075075,    0.076076,    0.077077,    0.078078,    0.079079,     0.08008,    0.081081,    0.082082,    0.083083,    0.084084,    0.085085,    0.086086,    0.087087,    0.088088,    0.089089,     0.09009,    0.091091,    0.092092,    0.093093,    0.094094,    0.095095,\n",
       "          0.096096,    0.097097,    0.098098,    0.099099,      0.1001,      0.1011,      0.1021,      0.1031,      0.1041,     0.10511,     0.10611,     0.10711,     0.10811,     0.10911,     0.11011,     0.11111,     0.11211,     0.11311,     0.11411,     0.11512,     0.11612,     0.11712,     0.11812,     0.11912,\n",
       "           0.12012,     0.12112,     0.12212,     0.12312,     0.12412,     0.12513,     0.12613,     0.12713,     0.12813,     0.12913,     0.13013,     0.13113,     0.13213,     0.13313,     0.13413,     0.13514,     0.13614,     0.13714,     0.13814,     0.13914,     0.14014,     0.14114,     0.14214,     0.14314,\n",
       "           0.14414,     0.14515,     0.14615,     0.14715,     0.14815,     0.14915,     0.15015,     0.15115,     0.15215,     0.15315,     0.15415,     0.15516,     0.15616,     0.15716,     0.15816,     0.15916,     0.16016,     0.16116,     0.16216,     0.16316,     0.16416,     0.16517,     0.16617,     0.16717,\n",
       "           0.16817,     0.16917,     0.17017,     0.17117,     0.17217,     0.17317,     0.17417,     0.17518,     0.17618,     0.17718,     0.17818,     0.17918,     0.18018,     0.18118,     0.18218,     0.18318,     0.18418,     0.18519,     0.18619,     0.18719,     0.18819,     0.18919,     0.19019,     0.19119,\n",
       "           0.19219,     0.19319,     0.19419,      0.1952,      0.1962,      0.1972,      0.1982,      0.1992,      0.2002,      0.2012,      0.2022,      0.2032,      0.2042,     0.20521,     0.20621,     0.20721,     0.20821,     0.20921,     0.21021,     0.21121,     0.21221,     0.21321,     0.21421,     0.21522,\n",
       "           0.21622,     0.21722,     0.21822,     0.21922,     0.22022,     0.22122,     0.22222,     0.22322,     0.22422,     0.22523,     0.22623,     0.22723,     0.22823,     0.22923,     0.23023,     0.23123,     0.23223,     0.23323,     0.23423,     0.23524,     0.23624,     0.23724,     0.23824,     0.23924,\n",
       "           0.24024,     0.24124,     0.24224,     0.24324,     0.24424,     0.24525,     0.24625,     0.24725,     0.24825,     0.24925,     0.25025,     0.25125,     0.25225,     0.25325,     0.25425,     0.25526,     0.25626,     0.25726,     0.25826,     0.25926,     0.26026,     0.26126,     0.26226,     0.26326,\n",
       "           0.26426,     0.26527,     0.26627,     0.26727,     0.26827,     0.26927,     0.27027,     0.27127,     0.27227,     0.27327,     0.27427,     0.27528,     0.27628,     0.27728,     0.27828,     0.27928,     0.28028,     0.28128,     0.28228,     0.28328,     0.28428,     0.28529,     0.28629,     0.28729,\n",
       "           0.28829,     0.28929,     0.29029,     0.29129,     0.29229,     0.29329,     0.29429,      0.2953,      0.2963,      0.2973,      0.2983,      0.2993,      0.3003,      0.3013,      0.3023,      0.3033,      0.3043,     0.30531,     0.30631,     0.30731,     0.30831,     0.30931,     0.31031,     0.31131,\n",
       "           0.31231,     0.31331,     0.31431,     0.31532,     0.31632,     0.31732,     0.31832,     0.31932,     0.32032,     0.32132,     0.32232,     0.32332,     0.32432,     0.32533,     0.32633,     0.32733,     0.32833,     0.32933,     0.33033,     0.33133,     0.33233,     0.33333,     0.33433,     0.33534,\n",
       "           0.33634,     0.33734,     0.33834,     0.33934,     0.34034,     0.34134,     0.34234,     0.34334,     0.34434,     0.34535,     0.34635,     0.34735,     0.34835,     0.34935,     0.35035,     0.35135,     0.35235,     0.35335,     0.35435,     0.35536,     0.35636,     0.35736,     0.35836,     0.35936,\n",
       "           0.36036,     0.36136,     0.36236,     0.36336,     0.36436,     0.36537,     0.36637,     0.36737,     0.36837,     0.36937,     0.37037,     0.37137,     0.37237,     0.37337,     0.37437,     0.37538,     0.37638,     0.37738,     0.37838,     0.37938,     0.38038,     0.38138,     0.38238,     0.38338,\n",
       "           0.38438,     0.38539,     0.38639,     0.38739,     0.38839,     0.38939,     0.39039,     0.39139,     0.39239,     0.39339,     0.39439,      0.3954,      0.3964,      0.3974,      0.3984,      0.3994,      0.4004,      0.4014,      0.4024,      0.4034,      0.4044,     0.40541,     0.40641,     0.40741,\n",
       "           0.40841,     0.40941,     0.41041,     0.41141,     0.41241,     0.41341,     0.41441,     0.41542,     0.41642,     0.41742,     0.41842,     0.41942,     0.42042,     0.42142,     0.42242,     0.42342,     0.42442,     0.42543,     0.42643,     0.42743,     0.42843,     0.42943,     0.43043,     0.43143,\n",
       "           0.43243,     0.43343,     0.43443,     0.43544,     0.43644,     0.43744,     0.43844,     0.43944,     0.44044,     0.44144,     0.44244,     0.44344,     0.44444,     0.44545,     0.44645,     0.44745,     0.44845,     0.44945,     0.45045,     0.45145,     0.45245,     0.45345,     0.45445,     0.45546,\n",
       "           0.45646,     0.45746,     0.45846,     0.45946,     0.46046,     0.46146,     0.46246,     0.46346,     0.46446,     0.46547,     0.46647,     0.46747,     0.46847,     0.46947,     0.47047,     0.47147,     0.47247,     0.47347,     0.47447,     0.47548,     0.47648,     0.47748,     0.47848,     0.47948,\n",
       "           0.48048,     0.48148,     0.48248,     0.48348,     0.48448,     0.48549,     0.48649,     0.48749,     0.48849,     0.48949,     0.49049,     0.49149,     0.49249,     0.49349,     0.49449,      0.4955,      0.4965,      0.4975,      0.4985,      0.4995,      0.5005,      0.5015,      0.5025,      0.5035,\n",
       "            0.5045,     0.50551,     0.50651,     0.50751,     0.50851,     0.50951,     0.51051,     0.51151,     0.51251,     0.51351,     0.51451,     0.51552,     0.51652,     0.51752,     0.51852,     0.51952,     0.52052,     0.52152,     0.52252,     0.52352,     0.52452,     0.52553,     0.52653,     0.52753,\n",
       "           0.52853,     0.52953,     0.53053,     0.53153,     0.53253,     0.53353,     0.53453,     0.53554,     0.53654,     0.53754,     0.53854,     0.53954,     0.54054,     0.54154,     0.54254,     0.54354,     0.54454,     0.54555,     0.54655,     0.54755,     0.54855,     0.54955,     0.55055,     0.55155,\n",
       "           0.55255,     0.55355,     0.55455,     0.55556,     0.55656,     0.55756,     0.55856,     0.55956,     0.56056,     0.56156,     0.56256,     0.56356,     0.56456,     0.56557,     0.56657,     0.56757,     0.56857,     0.56957,     0.57057,     0.57157,     0.57257,     0.57357,     0.57457,     0.57558,\n",
       "           0.57658,     0.57758,     0.57858,     0.57958,     0.58058,     0.58158,     0.58258,     0.58358,     0.58458,     0.58559,     0.58659,     0.58759,     0.58859,     0.58959,     0.59059,     0.59159,     0.59259,     0.59359,     0.59459,      0.5956,      0.5966,      0.5976,      0.5986,      0.5996,\n",
       "            0.6006,      0.6016,      0.6026,      0.6036,      0.6046,     0.60561,     0.60661,     0.60761,     0.60861,     0.60961,     0.61061,     0.61161,     0.61261,     0.61361,     0.61461,     0.61562,     0.61662,     0.61762,     0.61862,     0.61962,     0.62062,     0.62162,     0.62262,     0.62362,\n",
       "           0.62462,     0.62563,     0.62663,     0.62763,     0.62863,     0.62963,     0.63063,     0.63163,     0.63263,     0.63363,     0.63463,     0.63564,     0.63664,     0.63764,     0.63864,     0.63964,     0.64064,     0.64164,     0.64264,     0.64364,     0.64464,     0.64565,     0.64665,     0.64765,\n",
       "           0.64865,     0.64965,     0.65065,     0.65165,     0.65265,     0.65365,     0.65465,     0.65566,     0.65666,     0.65766,     0.65866,     0.65966,     0.66066,     0.66166,     0.66266,     0.66366,     0.66466,     0.66567,     0.66667,     0.66767,     0.66867,     0.66967,     0.67067,     0.67167,\n",
       "           0.67267,     0.67367,     0.67467,     0.67568,     0.67668,     0.67768,     0.67868,     0.67968,     0.68068,     0.68168,     0.68268,     0.68368,     0.68468,     0.68569,     0.68669,     0.68769,     0.68869,     0.68969,     0.69069,     0.69169,     0.69269,     0.69369,     0.69469,      0.6957,\n",
       "            0.6967,      0.6977,      0.6987,      0.6997,      0.7007,      0.7017,      0.7027,      0.7037,      0.7047,     0.70571,     0.70671,     0.70771,     0.70871,     0.70971,     0.71071,     0.71171,     0.71271,     0.71371,     0.71471,     0.71572,     0.71672,     0.71772,     0.71872,     0.71972,\n",
       "           0.72072,     0.72172,     0.72272,     0.72372,     0.72472,     0.72573,     0.72673,     0.72773,     0.72873,     0.72973,     0.73073,     0.73173,     0.73273,     0.73373,     0.73473,     0.73574,     0.73674,     0.73774,     0.73874,     0.73974,     0.74074,     0.74174,     0.74274,     0.74374,\n",
       "           0.74474,     0.74575,     0.74675,     0.74775,     0.74875,     0.74975,     0.75075,     0.75175,     0.75275,     0.75375,     0.75475,     0.75576,     0.75676,     0.75776,     0.75876,     0.75976,     0.76076,     0.76176,     0.76276,     0.76376,     0.76476,     0.76577,     0.76677,     0.76777,\n",
       "           0.76877,     0.76977,     0.77077,     0.77177,     0.77277,     0.77377,     0.77477,     0.77578,     0.77678,     0.77778,     0.77878,     0.77978,     0.78078,     0.78178,     0.78278,     0.78378,     0.78478,     0.78579,     0.78679,     0.78779,     0.78879,     0.78979,     0.79079,     0.79179,\n",
       "           0.79279,     0.79379,     0.79479,      0.7958,      0.7968,      0.7978,      0.7988,      0.7998,      0.8008,      0.8018,      0.8028,      0.8038,      0.8048,     0.80581,     0.80681,     0.80781,     0.80881,     0.80981,     0.81081,     0.81181,     0.81281,     0.81381,     0.81481,     0.81582,\n",
       "           0.81682,     0.81782,     0.81882,     0.81982,     0.82082,     0.82182,     0.82282,     0.82382,     0.82482,     0.82583,     0.82683,     0.82783,     0.82883,     0.82983,     0.83083,     0.83183,     0.83283,     0.83383,     0.83483,     0.83584,     0.83684,     0.83784,     0.83884,     0.83984,\n",
       "           0.84084,     0.84184,     0.84284,     0.84384,     0.84484,     0.84585,     0.84685,     0.84785,     0.84885,     0.84985,     0.85085,     0.85185,     0.85285,     0.85385,     0.85485,     0.85586,     0.85686,     0.85786,     0.85886,     0.85986,     0.86086,     0.86186,     0.86286,     0.86386,\n",
       "           0.86486,     0.86587,     0.86687,     0.86787,     0.86887,     0.86987,     0.87087,     0.87187,     0.87287,     0.87387,     0.87487,     0.87588,     0.87688,     0.87788,     0.87888,     0.87988,     0.88088,     0.88188,     0.88288,     0.88388,     0.88488,     0.88589,     0.88689,     0.88789,\n",
       "           0.88889,     0.88989,     0.89089,     0.89189,     0.89289,     0.89389,     0.89489,      0.8959,      0.8969,      0.8979,      0.8989,      0.8999,      0.9009,      0.9019,      0.9029,      0.9039,      0.9049,     0.90591,     0.90691,     0.90791,     0.90891,     0.90991,     0.91091,     0.91191,\n",
       "           0.91291,     0.91391,     0.91491,     0.91592,     0.91692,     0.91792,     0.91892,     0.91992,     0.92092,     0.92192,     0.92292,     0.92392,     0.92492,     0.92593,     0.92693,     0.92793,     0.92893,     0.92993,     0.93093,     0.93193,     0.93293,     0.93393,     0.93493,     0.93594,\n",
       "           0.93694,     0.93794,     0.93894,     0.93994,     0.94094,     0.94194,     0.94294,     0.94394,     0.94494,     0.94595,     0.94695,     0.94795,     0.94895,     0.94995,     0.95095,     0.95195,     0.95295,     0.95395,     0.95495,     0.95596,     0.95696,     0.95796,     0.95896,     0.95996,\n",
       "           0.96096,     0.96196,     0.96296,     0.96396,     0.96496,     0.96597,     0.96697,     0.96797,     0.96897,     0.96997,     0.97097,     0.97197,     0.97297,     0.97397,     0.97497,     0.97598,     0.97698,     0.97798,     0.97898,     0.97998,     0.98098,     0.98198,     0.98298,     0.98398,\n",
       "           0.98498,     0.98599,     0.98699,     0.98799,     0.98899,     0.98999,     0.99099,     0.99199,     0.99299,     0.99399,     0.99499,       0.996,       0.997,       0.998,       0.999,           1]), array([[          1,           1,           1,           1,           1,           1,           1,           1,           1,           1,           1,           1,           1,           1,           1,           1,           1,           1,           1,           1,           1,           1,           1,\n",
       "                  1,           1,           1,           1,           1,           1,           1,           1,           1,           1,           1,           1,           1,           1,           1,           1,           1,           1,           1,           1,           1,           1,           1,\n",
       "                  1,           1,           1,           1,           1,           1,           1,           1,           1,           1,           1,           1,           1,           1,           1,           1,           1,           1,           1,           1,           1,           1,           1,\n",
       "                  1,           1,           1,           1,           1,           1,           1,           1,           1,           1,           1,           1,           1,           1,           1,           1,           1,           1,           1,           1,           1,           1,           1,\n",
       "                  1,           1,           1,           1,           1,           1,           1,           1,           1,           1,           1,           1,           1,           1,           1,           1,           1,           1,           1,           1,           1,           1,           1,\n",
       "                  1,           1,           1,           1,           1,           1,           1,           1,           1,           1,           1,           1,           1,           1,           1,           1,           1,           1,           1,           1,           1,           1,           1,\n",
       "            0.91667,     0.91667,     0.91667,     0.91667,     0.91667,     0.91667,     0.91667,     0.91667,     0.91667,     0.91667,     0.91667,     0.91667,     0.91667,     0.91667,     0.91667,     0.91667,     0.91667,     0.91667,     0.91667,     0.91667,     0.91667,     0.91667,     0.91667,\n",
       "            0.91667,     0.91667,     0.91667,     0.91667,     0.91667,     0.91667,     0.91667,     0.91667,     0.91667,     0.91667,     0.91667,     0.91667,     0.91667,     0.91667,     0.91667,     0.91667,     0.91667,     0.91667,     0.91667,     0.91667,     0.91667,     0.91667,     0.91667,\n",
       "            0.91667,     0.91667,     0.91667,     0.91667,     0.91667,     0.91667,     0.91667,     0.91667,     0.91667,     0.91667,     0.91667,     0.91667,     0.91667,     0.91667,     0.91667,     0.91667,     0.91667,     0.91667,     0.91667,     0.91667,     0.91667,     0.91667,     0.91667,\n",
       "            0.91667,     0.91667,     0.91667,     0.91667,     0.91667,     0.91667,     0.91667,     0.91667,     0.91667,     0.91667,     0.91667,     0.91667,     0.91667,     0.91667,     0.91667,     0.91667,     0.91667,     0.91667,     0.91667,     0.91667,     0.91667,     0.91667,     0.91667,\n",
       "            0.91667,     0.91667,     0.91667,     0.91667,     0.91667,     0.91667,     0.91667,     0.91667,     0.91667,     0.91667,     0.91667,     0.91667,     0.91667,     0.91667,     0.91667,     0.91667,     0.91667,     0.91667,     0.91667,     0.91667,     0.91667,     0.91667,     0.91667,\n",
       "            0.91667,     0.91667,     0.91667,     0.91667,     0.91667,     0.91667,     0.91667,     0.91667,     0.91667,     0.91667,     0.91667,     0.91667,     0.91667,     0.91667,     0.91667,     0.91667,     0.91667,     0.91667,     0.91667,     0.91667,     0.91667,     0.91667,     0.91667,\n",
       "            0.91667,     0.91667,     0.91667,     0.91667,     0.91667,     0.91667,     0.91667,     0.91667,     0.91667,     0.91667,     0.91667,     0.91667,     0.91667,     0.91667,     0.91667,     0.91667,     0.91667,     0.91667,     0.91667,     0.91667,     0.91667,     0.91667,     0.91667,\n",
       "            0.91667,     0.91667,     0.91667,     0.91667,     0.91667,     0.91667,     0.91667,     0.91667,     0.91667,     0.91667,     0.91667,     0.91667,     0.91667,     0.91667,     0.91667,     0.91667,     0.91667,     0.91667,     0.91667,     0.91667,     0.91667,     0.91667,     0.91667,\n",
       "            0.91667,     0.91667,     0.91667,     0.91667,     0.91667,     0.91667,     0.91667,     0.91667,     0.91667,     0.91667,     0.91667,     0.91667,     0.91667,     0.91667,     0.91667,     0.91667,     0.91667,     0.91667,     0.91667,     0.91667,     0.91667,     0.91667,     0.91667,\n",
       "            0.91667,     0.91667,     0.91667,     0.91667,     0.91667,     0.91667,     0.91667,     0.91667,     0.91667,     0.91667,     0.91667,     0.91667,     0.91667,     0.91667,     0.91667,     0.91667,     0.91667,     0.91667,     0.91667,     0.91667,     0.91667,     0.91667,     0.91667,\n",
       "            0.91667,     0.91667,     0.91667,     0.91667,     0.91667,     0.91667,     0.91667,     0.91667,     0.91667,     0.91667,     0.91667,     0.86667,     0.86667,     0.86667,     0.86667,     0.86667,     0.86667,     0.86667,     0.86667,     0.86667,     0.86667,     0.86667,     0.86667,\n",
       "            0.86667,     0.86667,     0.86667,     0.86667,     0.86667,     0.86667,     0.86667,     0.86667,     0.86667,     0.86667,     0.86667,     0.86667,     0.86667,     0.86667,     0.86667,     0.86667,     0.86667,     0.86667,     0.86667,     0.86667,     0.86667,     0.86667,     0.86667,\n",
       "            0.86667,     0.86667,     0.86667,     0.86667,     0.86667,     0.86667,     0.86667,     0.86667,     0.86667,     0.86667,     0.86667,     0.86667,     0.86667,     0.86667,     0.86667,     0.86667,     0.86667,     0.86667,     0.86667,     0.86667,     0.86667,     0.86667,     0.86667,\n",
       "            0.86667,     0.86667,     0.86667,     0.86667,     0.86667,     0.86667,     0.86667,     0.86667,     0.86667,     0.86667,     0.86667,     0.86364,     0.86364,     0.86364,     0.86364,     0.86364,     0.86364,     0.86364,     0.86364,     0.86364,     0.86364,     0.86364,     0.86364,\n",
       "            0.86364,     0.86364,     0.86364,     0.86364,     0.86364,     0.86364,     0.86364,     0.86364,     0.86364,     0.86364,     0.86364,     0.86364,     0.86364,     0.86364,     0.86364,     0.86364,     0.86364,     0.86364,     0.86364,     0.86364,     0.86364,     0.86364,     0.86364,\n",
       "            0.86364,     0.86364,     0.86364,     0.86364,     0.86364,     0.86364,     0.86364,     0.86364,     0.86364,     0.86364,     0.86364,     0.86364,     0.86364,     0.86364,     0.86364,     0.86364,     0.86364,     0.86364,     0.86364,     0.86364,     0.86364,     0.86364,     0.86364,\n",
       "            0.86364,     0.86364,     0.86364,     0.86364,     0.86364,     0.86364,     0.86364,     0.86364,     0.86364,     0.86364,     0.86364,     0.86364,     0.86364,     0.86364,     0.86364,     0.86364,     0.86364,     0.86364,     0.86364,     0.86364,     0.86364,     0.86364,     0.86364,\n",
       "            0.86364,     0.86364,     0.86364,     0.86364,     0.86364,     0.86364,     0.86364,     0.86364,     0.86364,     0.86364,     0.86364,     0.86364,     0.86364,     0.86364,     0.86364,     0.86364,     0.86364,     0.86364,     0.86364,     0.86364,     0.86364,     0.86364,     0.86364,\n",
       "            0.86364,     0.86364,     0.86364,     0.86364,     0.86364,     0.86364,     0.86364,     0.86364,     0.86364,     0.86364,     0.86364,     0.86364,     0.86364,     0.86364,     0.86364,     0.86364,     0.86364,     0.86364,     0.86364,     0.86364,     0.86364,     0.86364,     0.86364,\n",
       "            0.86364,     0.86364,     0.86364,     0.86364,     0.86364,     0.86364,     0.86364,     0.86364,     0.86364,     0.86364,     0.86364,     0.86364,     0.86364,     0.86364,     0.86364,     0.86364,     0.86364,     0.86364,     0.86364,     0.86364,     0.86364,     0.86364,     0.86364,\n",
       "            0.86364,     0.86364,     0.86364,     0.86364,     0.86364,     0.86364,     0.86364,     0.86364,     0.86364,     0.86364,     0.86364,     0.86364,     0.86364,     0.86364,     0.86364,     0.86364,     0.86364,     0.86364,     0.86364,     0.86364,     0.86364,     0.86364,     0.86364,\n",
       "            0.86364,     0.86364,     0.86364,     0.86364,     0.86364,     0.86364,     0.86364,     0.86364,     0.86364,     0.86364,     0.86364,     0.86364,     0.86364,     0.86364,     0.86364,     0.86364,     0.86364,     0.86364,     0.86364,     0.86364,     0.86364,     0.86364,     0.86364,\n",
       "            0.86364,     0.86364,     0.86364,     0.86364,     0.86364,     0.86364,     0.86364,     0.86364,     0.86364,     0.86364,     0.86364,        0.84,        0.84,        0.84,        0.84,        0.84,        0.84,        0.84,        0.84,        0.84,        0.84,        0.84,        0.84,\n",
       "               0.84,        0.84,        0.84,        0.84,        0.84,        0.84,        0.84,        0.84,        0.84,        0.84,        0.84,        0.84,        0.84,        0.84,        0.84,        0.84,        0.84,        0.84,        0.84,        0.84,        0.84,        0.84,        0.84,\n",
       "               0.84,        0.84,        0.84,        0.84,        0.84,        0.84,        0.84,        0.84,        0.84,        0.84,        0.84,        0.84,        0.84,        0.84,        0.84,        0.84,        0.84,        0.84,        0.84,        0.84,        0.84,        0.84,        0.84,\n",
       "               0.84,        0.84,        0.84,        0.84,        0.84,        0.84,        0.84,        0.84,        0.84,        0.84,        0.84,     0.78571,     0.78571,     0.78571,     0.78571,     0.78571,     0.78571,     0.78571,     0.78571,     0.78571,     0.78571,     0.78571,     0.78571,\n",
       "            0.78571,     0.78571,     0.78571,     0.78571,     0.78571,     0.78571,     0.78571,     0.78571,     0.78571,     0.78571,     0.78571,     0.78571,     0.78571,     0.78571,     0.78571,     0.78571,     0.78571,     0.78571,     0.78571,     0.78571,     0.78571,     0.78571,     0.70588,\n",
       "            0.70588,     0.70588,     0.70588,     0.70588,     0.70588,     0.70588,     0.70588,     0.70588,     0.70588,     0.70588,     0.70588,     0.70588,     0.70588,     0.70588,     0.70588,     0.70588,     0.70588,     0.70588,     0.70588,     0.70588,     0.70588,     0.70588,     0.70588,\n",
       "            0.70588,     0.70588,     0.70588,     0.70588,     0.70588,     0.70588,     0.70588,     0.70588,     0.70588,     0.70588,     0.70588,     0.70588,     0.70588,     0.70588,     0.70588,     0.70588,     0.70588,     0.70588,     0.70588,     0.70588,     0.70588,     0.70588,     0.70588,\n",
       "            0.70588,     0.70588,     0.70588,     0.70588,     0.70588,     0.70588,     0.70588,     0.70588,     0.70588,     0.70588,     0.70588,     0.70588,     0.70588,     0.70588,     0.70588,     0.70588,     0.70588,     0.70588,     0.70588,     0.70588,     0.70588,     0.70588,     0.55556,\n",
       "            0.55556,     0.55556,     0.55556,     0.55556,     0.55556,     0.55556,     0.55556,     0.55556,     0.55556,     0.55556,     0.55556,     0.55556,     0.55556,     0.55556,     0.55556,     0.55556,     0.55556,     0.55556,     0.55556,     0.55556,     0.55556,     0.55556,     0.55556,\n",
       "            0.55556,     0.55556,     0.55556,     0.55556,     0.55556,     0.55556,     0.55556,     0.55556,     0.55556,     0.55556,     0.55556,         0.5,         0.5,         0.5,         0.5,         0.5,         0.5,         0.5,         0.5,         0.5,         0.5,         0.5,         0.5,\n",
       "                0.5,         0.5,         0.5,         0.5,         0.5,         0.5,         0.5,         0.5,         0.5,         0.5,         0.5,         0.5,         0.5,         0.5,         0.5,         0.5,         0.5,         0.5,         0.5,         0.5,         0.5,         0.5,     0.17308,\n",
       "            0.17308,     0.17308,     0.17308,     0.17308,     0.17308,     0.17308,     0.17308,     0.17308,     0.17308,     0.17308,     0.17308,     0.17308,     0.17308,     0.17308,     0.17308,     0.17308,     0.17308,     0.17308,     0.17308,     0.17308,     0.17308,     0.17308,     0.17308,\n",
       "            0.17308,     0.17308,     0.17308,     0.17308,     0.17308,     0.17308,     0.17308,     0.17308,     0.17308,     0.17308,     0.17308,    0.037333,    0.037333,    0.037333,    0.037333,    0.037333,    0.037333,    0.037333,    0.037333,    0.037333,    0.037333,    0.037333,    0.037333,\n",
       "           0.037333,    0.037333,    0.037333,    0.037333,    0.037333,    0.037333,    0.037333,    0.037333,    0.037333,    0.037333,    0.037333,    0.037333,    0.037333,    0.037333,    0.037333,    0.037333,    0.037333,    0.037333,    0.037333,    0.037333,    0.037333,    0.037333,    0.029592,\n",
       "           0.029592,    0.029592,    0.029592,    0.029592,    0.029592,    0.029592,    0.029592,    0.029592,    0.029592,    0.029592,    0.029592,    0.029592,    0.029592,    0.029592,    0.029592,    0.029592,    0.029592,    0.029592,    0.029592,    0.029592,    0.029592,    0.029592,    0.029592,\n",
       "           0.029592,    0.029592,    0.029592,    0.029592,    0.029592,    0.029592,    0.029592,    0.029592,    0.029592,    0.029592,           0]]), 'Recall', 'Precision'], [array([          0,    0.001001,    0.002002,    0.003003,    0.004004,    0.005005,    0.006006,    0.007007,    0.008008,    0.009009,     0.01001,    0.011011,    0.012012,    0.013013,    0.014014,    0.015015,    0.016016,    0.017017,    0.018018,    0.019019,     0.02002,    0.021021,    0.022022,    0.023023,\n",
       "          0.024024,    0.025025,    0.026026,    0.027027,    0.028028,    0.029029,     0.03003,    0.031031,    0.032032,    0.033033,    0.034034,    0.035035,    0.036036,    0.037037,    0.038038,    0.039039,     0.04004,    0.041041,    0.042042,    0.043043,    0.044044,    0.045045,    0.046046,    0.047047,\n",
       "          0.048048,    0.049049,     0.05005,    0.051051,    0.052052,    0.053053,    0.054054,    0.055055,    0.056056,    0.057057,    0.058058,    0.059059,     0.06006,    0.061061,    0.062062,    0.063063,    0.064064,    0.065065,    0.066066,    0.067067,    0.068068,    0.069069,     0.07007,    0.071071,\n",
       "          0.072072,    0.073073,    0.074074,    0.075075,    0.076076,    0.077077,    0.078078,    0.079079,     0.08008,    0.081081,    0.082082,    0.083083,    0.084084,    0.085085,    0.086086,    0.087087,    0.088088,    0.089089,     0.09009,    0.091091,    0.092092,    0.093093,    0.094094,    0.095095,\n",
       "          0.096096,    0.097097,    0.098098,    0.099099,      0.1001,      0.1011,      0.1021,      0.1031,      0.1041,     0.10511,     0.10611,     0.10711,     0.10811,     0.10911,     0.11011,     0.11111,     0.11211,     0.11311,     0.11411,     0.11512,     0.11612,     0.11712,     0.11812,     0.11912,\n",
       "           0.12012,     0.12112,     0.12212,     0.12312,     0.12412,     0.12513,     0.12613,     0.12713,     0.12813,     0.12913,     0.13013,     0.13113,     0.13213,     0.13313,     0.13413,     0.13514,     0.13614,     0.13714,     0.13814,     0.13914,     0.14014,     0.14114,     0.14214,     0.14314,\n",
       "           0.14414,     0.14515,     0.14615,     0.14715,     0.14815,     0.14915,     0.15015,     0.15115,     0.15215,     0.15315,     0.15415,     0.15516,     0.15616,     0.15716,     0.15816,     0.15916,     0.16016,     0.16116,     0.16216,     0.16316,     0.16416,     0.16517,     0.16617,     0.16717,\n",
       "           0.16817,     0.16917,     0.17017,     0.17117,     0.17217,     0.17317,     0.17417,     0.17518,     0.17618,     0.17718,     0.17818,     0.17918,     0.18018,     0.18118,     0.18218,     0.18318,     0.18418,     0.18519,     0.18619,     0.18719,     0.18819,     0.18919,     0.19019,     0.19119,\n",
       "           0.19219,     0.19319,     0.19419,      0.1952,      0.1962,      0.1972,      0.1982,      0.1992,      0.2002,      0.2012,      0.2022,      0.2032,      0.2042,     0.20521,     0.20621,     0.20721,     0.20821,     0.20921,     0.21021,     0.21121,     0.21221,     0.21321,     0.21421,     0.21522,\n",
       "           0.21622,     0.21722,     0.21822,     0.21922,     0.22022,     0.22122,     0.22222,     0.22322,     0.22422,     0.22523,     0.22623,     0.22723,     0.22823,     0.22923,     0.23023,     0.23123,     0.23223,     0.23323,     0.23423,     0.23524,     0.23624,     0.23724,     0.23824,     0.23924,\n",
       "           0.24024,     0.24124,     0.24224,     0.24324,     0.24424,     0.24525,     0.24625,     0.24725,     0.24825,     0.24925,     0.25025,     0.25125,     0.25225,     0.25325,     0.25425,     0.25526,     0.25626,     0.25726,     0.25826,     0.25926,     0.26026,     0.26126,     0.26226,     0.26326,\n",
       "           0.26426,     0.26527,     0.26627,     0.26727,     0.26827,     0.26927,     0.27027,     0.27127,     0.27227,     0.27327,     0.27427,     0.27528,     0.27628,     0.27728,     0.27828,     0.27928,     0.28028,     0.28128,     0.28228,     0.28328,     0.28428,     0.28529,     0.28629,     0.28729,\n",
       "           0.28829,     0.28929,     0.29029,     0.29129,     0.29229,     0.29329,     0.29429,      0.2953,      0.2963,      0.2973,      0.2983,      0.2993,      0.3003,      0.3013,      0.3023,      0.3033,      0.3043,     0.30531,     0.30631,     0.30731,     0.30831,     0.30931,     0.31031,     0.31131,\n",
       "           0.31231,     0.31331,     0.31431,     0.31532,     0.31632,     0.31732,     0.31832,     0.31932,     0.32032,     0.32132,     0.32232,     0.32332,     0.32432,     0.32533,     0.32633,     0.32733,     0.32833,     0.32933,     0.33033,     0.33133,     0.33233,     0.33333,     0.33433,     0.33534,\n",
       "           0.33634,     0.33734,     0.33834,     0.33934,     0.34034,     0.34134,     0.34234,     0.34334,     0.34434,     0.34535,     0.34635,     0.34735,     0.34835,     0.34935,     0.35035,     0.35135,     0.35235,     0.35335,     0.35435,     0.35536,     0.35636,     0.35736,     0.35836,     0.35936,\n",
       "           0.36036,     0.36136,     0.36236,     0.36336,     0.36436,     0.36537,     0.36637,     0.36737,     0.36837,     0.36937,     0.37037,     0.37137,     0.37237,     0.37337,     0.37437,     0.37538,     0.37638,     0.37738,     0.37838,     0.37938,     0.38038,     0.38138,     0.38238,     0.38338,\n",
       "           0.38438,     0.38539,     0.38639,     0.38739,     0.38839,     0.38939,     0.39039,     0.39139,     0.39239,     0.39339,     0.39439,      0.3954,      0.3964,      0.3974,      0.3984,      0.3994,      0.4004,      0.4014,      0.4024,      0.4034,      0.4044,     0.40541,     0.40641,     0.40741,\n",
       "           0.40841,     0.40941,     0.41041,     0.41141,     0.41241,     0.41341,     0.41441,     0.41542,     0.41642,     0.41742,     0.41842,     0.41942,     0.42042,     0.42142,     0.42242,     0.42342,     0.42442,     0.42543,     0.42643,     0.42743,     0.42843,     0.42943,     0.43043,     0.43143,\n",
       "           0.43243,     0.43343,     0.43443,     0.43544,     0.43644,     0.43744,     0.43844,     0.43944,     0.44044,     0.44144,     0.44244,     0.44344,     0.44444,     0.44545,     0.44645,     0.44745,     0.44845,     0.44945,     0.45045,     0.45145,     0.45245,     0.45345,     0.45445,     0.45546,\n",
       "           0.45646,     0.45746,     0.45846,     0.45946,     0.46046,     0.46146,     0.46246,     0.46346,     0.46446,     0.46547,     0.46647,     0.46747,     0.46847,     0.46947,     0.47047,     0.47147,     0.47247,     0.47347,     0.47447,     0.47548,     0.47648,     0.47748,     0.47848,     0.47948,\n",
       "           0.48048,     0.48148,     0.48248,     0.48348,     0.48448,     0.48549,     0.48649,     0.48749,     0.48849,     0.48949,     0.49049,     0.49149,     0.49249,     0.49349,     0.49449,      0.4955,      0.4965,      0.4975,      0.4985,      0.4995,      0.5005,      0.5015,      0.5025,      0.5035,\n",
       "            0.5045,     0.50551,     0.50651,     0.50751,     0.50851,     0.50951,     0.51051,     0.51151,     0.51251,     0.51351,     0.51451,     0.51552,     0.51652,     0.51752,     0.51852,     0.51952,     0.52052,     0.52152,     0.52252,     0.52352,     0.52452,     0.52553,     0.52653,     0.52753,\n",
       "           0.52853,     0.52953,     0.53053,     0.53153,     0.53253,     0.53353,     0.53453,     0.53554,     0.53654,     0.53754,     0.53854,     0.53954,     0.54054,     0.54154,     0.54254,     0.54354,     0.54454,     0.54555,     0.54655,     0.54755,     0.54855,     0.54955,     0.55055,     0.55155,\n",
       "           0.55255,     0.55355,     0.55455,     0.55556,     0.55656,     0.55756,     0.55856,     0.55956,     0.56056,     0.56156,     0.56256,     0.56356,     0.56456,     0.56557,     0.56657,     0.56757,     0.56857,     0.56957,     0.57057,     0.57157,     0.57257,     0.57357,     0.57457,     0.57558,\n",
       "           0.57658,     0.57758,     0.57858,     0.57958,     0.58058,     0.58158,     0.58258,     0.58358,     0.58458,     0.58559,     0.58659,     0.58759,     0.58859,     0.58959,     0.59059,     0.59159,     0.59259,     0.59359,     0.59459,      0.5956,      0.5966,      0.5976,      0.5986,      0.5996,\n",
       "            0.6006,      0.6016,      0.6026,      0.6036,      0.6046,     0.60561,     0.60661,     0.60761,     0.60861,     0.60961,     0.61061,     0.61161,     0.61261,     0.61361,     0.61461,     0.61562,     0.61662,     0.61762,     0.61862,     0.61962,     0.62062,     0.62162,     0.62262,     0.62362,\n",
       "           0.62462,     0.62563,     0.62663,     0.62763,     0.62863,     0.62963,     0.63063,     0.63163,     0.63263,     0.63363,     0.63463,     0.63564,     0.63664,     0.63764,     0.63864,     0.63964,     0.64064,     0.64164,     0.64264,     0.64364,     0.64464,     0.64565,     0.64665,     0.64765,\n",
       "           0.64865,     0.64965,     0.65065,     0.65165,     0.65265,     0.65365,     0.65465,     0.65566,     0.65666,     0.65766,     0.65866,     0.65966,     0.66066,     0.66166,     0.66266,     0.66366,     0.66466,     0.66567,     0.66667,     0.66767,     0.66867,     0.66967,     0.67067,     0.67167,\n",
       "           0.67267,     0.67367,     0.67467,     0.67568,     0.67668,     0.67768,     0.67868,     0.67968,     0.68068,     0.68168,     0.68268,     0.68368,     0.68468,     0.68569,     0.68669,     0.68769,     0.68869,     0.68969,     0.69069,     0.69169,     0.69269,     0.69369,     0.69469,      0.6957,\n",
       "            0.6967,      0.6977,      0.6987,      0.6997,      0.7007,      0.7017,      0.7027,      0.7037,      0.7047,     0.70571,     0.70671,     0.70771,     0.70871,     0.70971,     0.71071,     0.71171,     0.71271,     0.71371,     0.71471,     0.71572,     0.71672,     0.71772,     0.71872,     0.71972,\n",
       "           0.72072,     0.72172,     0.72272,     0.72372,     0.72472,     0.72573,     0.72673,     0.72773,     0.72873,     0.72973,     0.73073,     0.73173,     0.73273,     0.73373,     0.73473,     0.73574,     0.73674,     0.73774,     0.73874,     0.73974,     0.74074,     0.74174,     0.74274,     0.74374,\n",
       "           0.74474,     0.74575,     0.74675,     0.74775,     0.74875,     0.74975,     0.75075,     0.75175,     0.75275,     0.75375,     0.75475,     0.75576,     0.75676,     0.75776,     0.75876,     0.75976,     0.76076,     0.76176,     0.76276,     0.76376,     0.76476,     0.76577,     0.76677,     0.76777,\n",
       "           0.76877,     0.76977,     0.77077,     0.77177,     0.77277,     0.77377,     0.77477,     0.77578,     0.77678,     0.77778,     0.77878,     0.77978,     0.78078,     0.78178,     0.78278,     0.78378,     0.78478,     0.78579,     0.78679,     0.78779,     0.78879,     0.78979,     0.79079,     0.79179,\n",
       "           0.79279,     0.79379,     0.79479,      0.7958,      0.7968,      0.7978,      0.7988,      0.7998,      0.8008,      0.8018,      0.8028,      0.8038,      0.8048,     0.80581,     0.80681,     0.80781,     0.80881,     0.80981,     0.81081,     0.81181,     0.81281,     0.81381,     0.81481,     0.81582,\n",
       "           0.81682,     0.81782,     0.81882,     0.81982,     0.82082,     0.82182,     0.82282,     0.82382,     0.82482,     0.82583,     0.82683,     0.82783,     0.82883,     0.82983,     0.83083,     0.83183,     0.83283,     0.83383,     0.83483,     0.83584,     0.83684,     0.83784,     0.83884,     0.83984,\n",
       "           0.84084,     0.84184,     0.84284,     0.84384,     0.84484,     0.84585,     0.84685,     0.84785,     0.84885,     0.84985,     0.85085,     0.85185,     0.85285,     0.85385,     0.85485,     0.85586,     0.85686,     0.85786,     0.85886,     0.85986,     0.86086,     0.86186,     0.86286,     0.86386,\n",
       "           0.86486,     0.86587,     0.86687,     0.86787,     0.86887,     0.86987,     0.87087,     0.87187,     0.87287,     0.87387,     0.87487,     0.87588,     0.87688,     0.87788,     0.87888,     0.87988,     0.88088,     0.88188,     0.88288,     0.88388,     0.88488,     0.88589,     0.88689,     0.88789,\n",
       "           0.88889,     0.88989,     0.89089,     0.89189,     0.89289,     0.89389,     0.89489,      0.8959,      0.8969,      0.8979,      0.8989,      0.8999,      0.9009,      0.9019,      0.9029,      0.9039,      0.9049,     0.90591,     0.90691,     0.90791,     0.90891,     0.90991,     0.91091,     0.91191,\n",
       "           0.91291,     0.91391,     0.91491,     0.91592,     0.91692,     0.91792,     0.91892,     0.91992,     0.92092,     0.92192,     0.92292,     0.92392,     0.92492,     0.92593,     0.92693,     0.92793,     0.92893,     0.92993,     0.93093,     0.93193,     0.93293,     0.93393,     0.93493,     0.93594,\n",
       "           0.93694,     0.93794,     0.93894,     0.93994,     0.94094,     0.94194,     0.94294,     0.94394,     0.94494,     0.94595,     0.94695,     0.94795,     0.94895,     0.94995,     0.95095,     0.95195,     0.95295,     0.95395,     0.95495,     0.95596,     0.95696,     0.95796,     0.95896,     0.95996,\n",
       "           0.96096,     0.96196,     0.96296,     0.96396,     0.96496,     0.96597,     0.96697,     0.96797,     0.96897,     0.96997,     0.97097,     0.97197,     0.97297,     0.97397,     0.97497,     0.97598,     0.97698,     0.97798,     0.97898,     0.97998,     0.98098,     0.98198,     0.98298,     0.98398,\n",
       "           0.98498,     0.98599,     0.98699,     0.98799,     0.98899,     0.98999,     0.99099,     0.99199,     0.99299,     0.99399,     0.99499,       0.996,       0.997,       0.998,       0.999,           1]), array([[   0.006881,    0.006881,    0.006881,    0.008342,   0.0099681,    0.010466,    0.010743,    0.011101,    0.011992,    0.014362,    0.020845,    0.037421,    0.065575,     0.10682,     0.15165,      0.1828,     0.20761,     0.24198,     0.27549,      0.2942,     0.31561,     0.33517,     0.37437,\n",
       "            0.39508,     0.41406,     0.44202,     0.45847,     0.46723,     0.47244,     0.49562,     0.51131,     0.52214,     0.53159,     0.53955,     0.54583,     0.55011,     0.55365,     0.55892,     0.56618,     0.56914,     0.57255,     0.57749,     0.59139,     0.59451,     0.59761,     0.61529,\n",
       "            0.61958,     0.62631,     0.62947,     0.63252,     0.63897,      0.6381,     0.63264,     0.62716,     0.62653,     0.62905,     0.63155,     0.63832,     0.64715,     0.65078,     0.65276,     0.65473,      0.6567,       0.668,     0.67287,     0.66555,     0.66296,     0.68609,     0.68728,\n",
       "            0.68847,     0.68965,     0.69083,     0.69201,     0.69318,     0.69435,     0.69552,     0.73987,     0.75063,      0.7575,     0.75054,     0.74086,     0.73941,     0.73796,      0.7365,     0.73504,     0.73358,     0.73212,     0.73065,     0.72919,     0.72772,     0.72625,     0.72478,\n",
       "            0.72331,     0.72183,     0.72578,     0.73258,     0.73962,     0.74617,     0.74958,     0.75296,     0.75631,     0.76267,      0.7708,     0.76687,     0.76293,     0.75898,     0.75501,     0.75102,     0.75083,     0.75194,     0.75305,     0.75415,     0.75525,     0.75635,     0.75744,\n",
       "            0.75853,     0.75961,      0.7607,     0.76178,     0.76285,     0.76385,     0.76464,     0.76544,     0.76623,     0.76702,      0.7678,     0.76859,     0.76937,     0.77015,     0.77093,     0.77171,     0.77249,     0.77326,     0.77404,     0.77481,     0.77558,     0.77634,     0.77711,\n",
       "            0.77763,     0.77648,     0.77533,     0.77417,     0.77302,     0.77186,      0.7707,     0.76954,     0.76838,     0.76721,     0.76605,     0.76488,     0.76371,     0.76254,     0.76137,     0.76019,     0.75902,     0.75784,     0.75666,     0.75548,     0.75454,     0.75403,     0.75352,\n",
       "            0.75302,     0.75251,       0.752,      0.7515,     0.75099,     0.75048,     0.74997,     0.74946,     0.74895,     0.74844,     0.74794,     0.74743,     0.74692,      0.7464,     0.74589,     0.74538,     0.74487,     0.74436,     0.74385,     0.74334,     0.74282,     0.74231,      0.7418,\n",
       "            0.74128,     0.74077,     0.74026,     0.73974,     0.73923,     0.73871,      0.7382,     0.73768,     0.73716,     0.73665,     0.73613,     0.73561,      0.7351,     0.73458,     0.73406,     0.73354,     0.73302,     0.73251,     0.73199,     0.73147,     0.73095,      0.7311,     0.73161,\n",
       "            0.73212,     0.73262,     0.73313,     0.73363,     0.73414,     0.73464,     0.73514,     0.73564,     0.73614,     0.73664,     0.73714,     0.73763,     0.73813,     0.73862,     0.73912,     0.73961,      0.7401,      0.7406,     0.74109,     0.74158,     0.74207,     0.74256,     0.74304,\n",
       "            0.74353,     0.74402,      0.7445,     0.74499,     0.74478,     0.74436,     0.74394,     0.74353,     0.74311,     0.74269,     0.74227,     0.74185,     0.74143,     0.74102,      0.7406,     0.74018,     0.73976,     0.73934,     0.73892,      0.7385,     0.73808,     0.73766,     0.73724,\n",
       "            0.73682,     0.73639,     0.73597,     0.73555,     0.73513,     0.73471,     0.73429,     0.73386,     0.73344,     0.73302,     0.73259,     0.73217,     0.73175,     0.73132,      0.7309,     0.73047,     0.73005,     0.72963,      0.7292,     0.72878,     0.72835,     0.72792,      0.7275,\n",
       "            0.72707,     0.72665,     0.72622,     0.72579,     0.72537,     0.72494,     0.72451,     0.72408,     0.72366,     0.72323,      0.7228,     0.72237,     0.72194,     0.72151,     0.72108,     0.72065,     0.72022,     0.71822,     0.71448,     0.71073,     0.70695,     0.70316,     0.69936,\n",
       "            0.69553,     0.69343,     0.69265,     0.69187,     0.69109,      0.6903,     0.68952,     0.68874,     0.68795,     0.68716,     0.68638,     0.68559,      0.6848,     0.68401,     0.68322,     0.68243,     0.68164,     0.68085,     0.68006,     0.67926,     0.67847,     0.67768,     0.67688,\n",
       "            0.67608,     0.67529,     0.67449,     0.67369,     0.67289,     0.67209,     0.67129,     0.67049,     0.66969,     0.66889,     0.66808,     0.66728,     0.66641,     0.66533,     0.66425,     0.66317,     0.66209,     0.66101,     0.65992,     0.65884,     0.65775,     0.65667,     0.65558,\n",
       "            0.65449,     0.65339,      0.6523,     0.65121,     0.65011,     0.64901,     0.64792,     0.64682,     0.64571,     0.64461,     0.64351,      0.6424,      0.6413,     0.64019,     0.63908,     0.63759,     0.63519,     0.63278,     0.63036,     0.62794,     0.62552,     0.62308,     0.62064,\n",
       "             0.6182,     0.61574,     0.61328,     0.61082,     0.60837,     0.60607,     0.60376,     0.60145,     0.59913,     0.59681,     0.59448,     0.59214,      0.5898,     0.58746,      0.5851,     0.58275,     0.58038,     0.57801,     0.59067,     0.59003,     0.58938,     0.58874,      0.5881,\n",
       "            0.58746,     0.58681,     0.58617,     0.58552,     0.58488,     0.58423,     0.58359,     0.58294,     0.58229,     0.58164,       0.581,     0.58035,      0.5797,     0.57905,      0.5784,     0.57775,      0.5771,     0.57645,     0.57579,     0.57514,     0.57449,     0.57384,     0.57318,\n",
       "            0.57253,     0.57187,     0.57122,     0.57056,     0.56991,     0.56925,     0.56859,     0.56793,     0.56728,     0.56662,     0.56596,      0.5653,     0.56464,     0.56398,     0.56332,     0.56265,     0.56199,     0.56133,     0.56067,        0.56,     0.55934,     0.55867,      0.5566,\n",
       "            0.54881,     0.54095,     0.53302,     0.52503,     0.52865,     0.53411,      0.5325,     0.52473,     0.51689,     0.50897,     0.50098,     0.46417,      0.4497,      0.4369,      0.4239,      0.4204,     0.41956,     0.41872,     0.41789,     0.41705,     0.41621,     0.41537,     0.41453,\n",
       "            0.41369,     0.41284,       0.412,     0.41116,     0.41031,     0.40947,     0.40862,     0.40777,     0.40693,     0.40608,     0.40523,     0.40438,     0.40353,     0.40268,     0.40182,     0.40097,     0.40012,     0.39926,     0.39841,     0.39755,     0.39669,     0.39584,     0.39498,\n",
       "            0.39412,     0.39326,      0.3924,     0.39154,     0.39067,     0.38981,     0.38895,     0.38808,     0.38721,     0.38635,     0.38548,     0.38461,     0.38374,     0.38287,       0.382,     0.38113,     0.38026,     0.37939,     0.37851,     0.37775,     0.37702,     0.37628,     0.37554,\n",
       "             0.3748,     0.37406,     0.37332,     0.37258,     0.37184,     0.37109,     0.37035,     0.36961,     0.36886,     0.36812,     0.36737,     0.36663,     0.36588,     0.36514,     0.36439,     0.36364,     0.36289,     0.36214,     0.36139,     0.36064,     0.35989,     0.35914,     0.35839,\n",
       "            0.35764,     0.35688,     0.35613,     0.35538,     0.35462,     0.35387,     0.35311,     0.35235,      0.3516,     0.35084,     0.35008,     0.34932,     0.34856,      0.3478,     0.34704,     0.34628,     0.34552,     0.34476,     0.34399,     0.34323,     0.34247,      0.3417,     0.34094,\n",
       "            0.34017,      0.3394,     0.33864,     0.33787,      0.3371,     0.33633,     0.33556,     0.33479,     0.33402,     0.33274,     0.32728,      0.3218,     0.31629,     0.31075,     0.30518,     0.29958,     0.29395,     0.28829,     0.28368,     0.27997,     0.27624,     0.27249,     0.26874,\n",
       "            0.26497,     0.26119,      0.2574,     0.25359,     0.24978,     0.24594,      0.2421,     0.23823,     0.23536,     0.23561,     0.23585,      0.2361,     0.23634,     0.23658,     0.23682,     0.23705,     0.23728,     0.23751,     0.23773,     0.23796,     0.23818,     0.23839,     0.23861,\n",
       "            0.23882,     0.23903,     0.23924,     0.23944,     0.23965,     0.23985,     0.24005,     0.24024,     0.24044,     0.24063,     0.24082,     0.24101,     0.24119,     0.24138,     0.24156,     0.24174,     0.24192,     0.24209,     0.24227,     0.24226,     0.24063,     0.23899,     0.23735,\n",
       "             0.2357,     0.23406,     0.23241,     0.23075,      0.2291,     0.22744,     0.22577,     0.22411,     0.22244,     0.22076,     0.21909,     0.21741,     0.21573,     0.21404,     0.21235,     0.21066,     0.20897,     0.20727,     0.20557,     0.20386,     0.20216,     0.20045,     0.19873,\n",
       "            0.19701,     0.19529,     0.19357,     0.19184,     0.19011,     0.18838,     0.18561,     0.18178,     0.17793,     0.17407,     0.17019,      0.1663,     0.16238,     0.15845,     0.15451,     0.15054,     0.14656,     0.14257,     0.13855,     0.13452,     0.13047,     0.12882,     0.12848,\n",
       "            0.12815,     0.12782,     0.12748,     0.12715,     0.12682,     0.12648,     0.12615,     0.12582,     0.12548,     0.12515,     0.12481,     0.12448,     0.12414,     0.12381,     0.12348,     0.12314,     0.12281,     0.12247,     0.12213,      0.1218,     0.12146,     0.12113,     0.12079,\n",
       "            0.12046,     0.12012,     0.11978,     0.11945,     0.11911,     0.11878,     0.11844,      0.1181,     0.11777,     0.11743,     0.11709,     0.11675,     0.11642,     0.11608,     0.11574,      0.1154,     0.11507,     0.11473,     0.11439,     0.11405,     0.11371,     0.11338,     0.11304,\n",
       "             0.1127,     0.11236,     0.11202,     0.11168,     0.11134,       0.111,     0.11066,     0.11033,     0.10999,     0.10965,     0.10931,     0.10897,     0.10863,     0.10829,     0.10795,      0.1076,     0.10726,     0.10692,     0.10658,     0.10624,      0.1059,     0.10556,     0.10522,\n",
       "            0.10488,     0.10454,     0.10419,     0.10385,     0.10351,     0.10317,     0.10283,     0.10248,     0.10214,      0.1018,     0.10146,     0.10111,     0.10077,     0.10043,     0.10008,     0.09974,    0.099397,    0.099053,     0.09871,    0.098366,    0.098022,    0.097678,    0.097334,\n",
       "            0.09699,    0.096645,    0.096301,    0.095956,    0.095611,    0.095266,    0.094921,    0.094576,    0.094231,    0.093885,     0.09354,    0.093194,    0.092848,    0.092502,    0.092156,     0.09181,    0.091464,    0.091118,    0.090771,    0.090424,    0.090078,    0.089731,    0.089384,\n",
       "           0.089036,    0.088689,    0.088342,    0.087994,    0.087646,    0.087299,    0.086951,    0.086603,    0.086254,    0.085906,    0.085558,    0.085209,     0.08486,    0.084512,    0.084163,    0.083814,    0.083464,    0.083115,    0.082766,    0.082416,    0.082066,    0.081717,    0.081367,\n",
       "           0.081016,    0.080666,    0.080316,    0.079965,    0.079615,    0.079264,    0.078913,    0.078562,    0.078211,     0.07786,    0.077509,    0.077157,    0.076805,    0.076454,    0.076102,     0.07575,    0.075398,    0.075045,    0.074693,     0.07434,    0.073988,    0.073635,    0.073282,\n",
       "           0.072929,    0.072576,    0.072222,    0.071869,    0.071515,    0.071162,    0.070808,    0.070454,      0.0701,    0.069746,    0.069391,    0.069037,    0.068682,    0.068328,    0.067973,    0.067618,    0.067263,    0.066907,           0,           0,           0,           0,           0,\n",
       "                  0,           0,           0,           0,           0,           0,           0,           0,           0,           0,           0,           0,           0,           0,           0,           0,           0,           0,           0,           0,           0,           0,           0,\n",
       "                  0,           0,           0,           0,           0,           0,           0,           0,           0,           0,           0,           0,           0,           0,           0,           0,           0,           0,           0,           0,           0,           0,           0,\n",
       "                  0,           0,           0,           0,           0,           0,           0,           0,           0,           0,           0,           0,           0,           0,           0,           0,           0,           0,           0,           0,           0,           0,           0,\n",
       "                  0,           0,           0,           0,           0,           0,           0,           0,           0,           0,           0,           0,           0,           0,           0,           0,           0,           0,           0,           0,           0,           0,           0,\n",
       "                  0,           0,           0,           0,           0,           0,           0,           0,           0,           0,           0,           0,           0,           0,           0,           0,           0,           0,           0,           0,           0,           0,           0,\n",
       "                  0,           0,           0,           0,           0,           0,           0,           0,           0,           0,           0,           0,           0,           0,           0,           0,           0,           0,           0,           0,           0,           0,           0,\n",
       "                  0,           0,           0,           0,           0,           0,           0,           0,           0,           0,           0]]), 'Confidence', 'F1'], [array([          0,    0.001001,    0.002002,    0.003003,    0.004004,    0.005005,    0.006006,    0.007007,    0.008008,    0.009009,     0.01001,    0.011011,    0.012012,    0.013013,    0.014014,    0.015015,    0.016016,    0.017017,    0.018018,    0.019019,     0.02002,    0.021021,    0.022022,    0.023023,\n",
       "          0.024024,    0.025025,    0.026026,    0.027027,    0.028028,    0.029029,     0.03003,    0.031031,    0.032032,    0.033033,    0.034034,    0.035035,    0.036036,    0.037037,    0.038038,    0.039039,     0.04004,    0.041041,    0.042042,    0.043043,    0.044044,    0.045045,    0.046046,    0.047047,\n",
       "          0.048048,    0.049049,     0.05005,    0.051051,    0.052052,    0.053053,    0.054054,    0.055055,    0.056056,    0.057057,    0.058058,    0.059059,     0.06006,    0.061061,    0.062062,    0.063063,    0.064064,    0.065065,    0.066066,    0.067067,    0.068068,    0.069069,     0.07007,    0.071071,\n",
       "          0.072072,    0.073073,    0.074074,    0.075075,    0.076076,    0.077077,    0.078078,    0.079079,     0.08008,    0.081081,    0.082082,    0.083083,    0.084084,    0.085085,    0.086086,    0.087087,    0.088088,    0.089089,     0.09009,    0.091091,    0.092092,    0.093093,    0.094094,    0.095095,\n",
       "          0.096096,    0.097097,    0.098098,    0.099099,      0.1001,      0.1011,      0.1021,      0.1031,      0.1041,     0.10511,     0.10611,     0.10711,     0.10811,     0.10911,     0.11011,     0.11111,     0.11211,     0.11311,     0.11411,     0.11512,     0.11612,     0.11712,     0.11812,     0.11912,\n",
       "           0.12012,     0.12112,     0.12212,     0.12312,     0.12412,     0.12513,     0.12613,     0.12713,     0.12813,     0.12913,     0.13013,     0.13113,     0.13213,     0.13313,     0.13413,     0.13514,     0.13614,     0.13714,     0.13814,     0.13914,     0.14014,     0.14114,     0.14214,     0.14314,\n",
       "           0.14414,     0.14515,     0.14615,     0.14715,     0.14815,     0.14915,     0.15015,     0.15115,     0.15215,     0.15315,     0.15415,     0.15516,     0.15616,     0.15716,     0.15816,     0.15916,     0.16016,     0.16116,     0.16216,     0.16316,     0.16416,     0.16517,     0.16617,     0.16717,\n",
       "           0.16817,     0.16917,     0.17017,     0.17117,     0.17217,     0.17317,     0.17417,     0.17518,     0.17618,     0.17718,     0.17818,     0.17918,     0.18018,     0.18118,     0.18218,     0.18318,     0.18418,     0.18519,     0.18619,     0.18719,     0.18819,     0.18919,     0.19019,     0.19119,\n",
       "           0.19219,     0.19319,     0.19419,      0.1952,      0.1962,      0.1972,      0.1982,      0.1992,      0.2002,      0.2012,      0.2022,      0.2032,      0.2042,     0.20521,     0.20621,     0.20721,     0.20821,     0.20921,     0.21021,     0.21121,     0.21221,     0.21321,     0.21421,     0.21522,\n",
       "           0.21622,     0.21722,     0.21822,     0.21922,     0.22022,     0.22122,     0.22222,     0.22322,     0.22422,     0.22523,     0.22623,     0.22723,     0.22823,     0.22923,     0.23023,     0.23123,     0.23223,     0.23323,     0.23423,     0.23524,     0.23624,     0.23724,     0.23824,     0.23924,\n",
       "           0.24024,     0.24124,     0.24224,     0.24324,     0.24424,     0.24525,     0.24625,     0.24725,     0.24825,     0.24925,     0.25025,     0.25125,     0.25225,     0.25325,     0.25425,     0.25526,     0.25626,     0.25726,     0.25826,     0.25926,     0.26026,     0.26126,     0.26226,     0.26326,\n",
       "           0.26426,     0.26527,     0.26627,     0.26727,     0.26827,     0.26927,     0.27027,     0.27127,     0.27227,     0.27327,     0.27427,     0.27528,     0.27628,     0.27728,     0.27828,     0.27928,     0.28028,     0.28128,     0.28228,     0.28328,     0.28428,     0.28529,     0.28629,     0.28729,\n",
       "           0.28829,     0.28929,     0.29029,     0.29129,     0.29229,     0.29329,     0.29429,      0.2953,      0.2963,      0.2973,      0.2983,      0.2993,      0.3003,      0.3013,      0.3023,      0.3033,      0.3043,     0.30531,     0.30631,     0.30731,     0.30831,     0.30931,     0.31031,     0.31131,\n",
       "           0.31231,     0.31331,     0.31431,     0.31532,     0.31632,     0.31732,     0.31832,     0.31932,     0.32032,     0.32132,     0.32232,     0.32332,     0.32432,     0.32533,     0.32633,     0.32733,     0.32833,     0.32933,     0.33033,     0.33133,     0.33233,     0.33333,     0.33433,     0.33534,\n",
       "           0.33634,     0.33734,     0.33834,     0.33934,     0.34034,     0.34134,     0.34234,     0.34334,     0.34434,     0.34535,     0.34635,     0.34735,     0.34835,     0.34935,     0.35035,     0.35135,     0.35235,     0.35335,     0.35435,     0.35536,     0.35636,     0.35736,     0.35836,     0.35936,\n",
       "           0.36036,     0.36136,     0.36236,     0.36336,     0.36436,     0.36537,     0.36637,     0.36737,     0.36837,     0.36937,     0.37037,     0.37137,     0.37237,     0.37337,     0.37437,     0.37538,     0.37638,     0.37738,     0.37838,     0.37938,     0.38038,     0.38138,     0.38238,     0.38338,\n",
       "           0.38438,     0.38539,     0.38639,     0.38739,     0.38839,     0.38939,     0.39039,     0.39139,     0.39239,     0.39339,     0.39439,      0.3954,      0.3964,      0.3974,      0.3984,      0.3994,      0.4004,      0.4014,      0.4024,      0.4034,      0.4044,     0.40541,     0.40641,     0.40741,\n",
       "           0.40841,     0.40941,     0.41041,     0.41141,     0.41241,     0.41341,     0.41441,     0.41542,     0.41642,     0.41742,     0.41842,     0.41942,     0.42042,     0.42142,     0.42242,     0.42342,     0.42442,     0.42543,     0.42643,     0.42743,     0.42843,     0.42943,     0.43043,     0.43143,\n",
       "           0.43243,     0.43343,     0.43443,     0.43544,     0.43644,     0.43744,     0.43844,     0.43944,     0.44044,     0.44144,     0.44244,     0.44344,     0.44444,     0.44545,     0.44645,     0.44745,     0.44845,     0.44945,     0.45045,     0.45145,     0.45245,     0.45345,     0.45445,     0.45546,\n",
       "           0.45646,     0.45746,     0.45846,     0.45946,     0.46046,     0.46146,     0.46246,     0.46346,     0.46446,     0.46547,     0.46647,     0.46747,     0.46847,     0.46947,     0.47047,     0.47147,     0.47247,     0.47347,     0.47447,     0.47548,     0.47648,     0.47748,     0.47848,     0.47948,\n",
       "           0.48048,     0.48148,     0.48248,     0.48348,     0.48448,     0.48549,     0.48649,     0.48749,     0.48849,     0.48949,     0.49049,     0.49149,     0.49249,     0.49349,     0.49449,      0.4955,      0.4965,      0.4975,      0.4985,      0.4995,      0.5005,      0.5015,      0.5025,      0.5035,\n",
       "            0.5045,     0.50551,     0.50651,     0.50751,     0.50851,     0.50951,     0.51051,     0.51151,     0.51251,     0.51351,     0.51451,     0.51552,     0.51652,     0.51752,     0.51852,     0.51952,     0.52052,     0.52152,     0.52252,     0.52352,     0.52452,     0.52553,     0.52653,     0.52753,\n",
       "           0.52853,     0.52953,     0.53053,     0.53153,     0.53253,     0.53353,     0.53453,     0.53554,     0.53654,     0.53754,     0.53854,     0.53954,     0.54054,     0.54154,     0.54254,     0.54354,     0.54454,     0.54555,     0.54655,     0.54755,     0.54855,     0.54955,     0.55055,     0.55155,\n",
       "           0.55255,     0.55355,     0.55455,     0.55556,     0.55656,     0.55756,     0.55856,     0.55956,     0.56056,     0.56156,     0.56256,     0.56356,     0.56456,     0.56557,     0.56657,     0.56757,     0.56857,     0.56957,     0.57057,     0.57157,     0.57257,     0.57357,     0.57457,     0.57558,\n",
       "           0.57658,     0.57758,     0.57858,     0.57958,     0.58058,     0.58158,     0.58258,     0.58358,     0.58458,     0.58559,     0.58659,     0.58759,     0.58859,     0.58959,     0.59059,     0.59159,     0.59259,     0.59359,     0.59459,      0.5956,      0.5966,      0.5976,      0.5986,      0.5996,\n",
       "            0.6006,      0.6016,      0.6026,      0.6036,      0.6046,     0.60561,     0.60661,     0.60761,     0.60861,     0.60961,     0.61061,     0.61161,     0.61261,     0.61361,     0.61461,     0.61562,     0.61662,     0.61762,     0.61862,     0.61962,     0.62062,     0.62162,     0.62262,     0.62362,\n",
       "           0.62462,     0.62563,     0.62663,     0.62763,     0.62863,     0.62963,     0.63063,     0.63163,     0.63263,     0.63363,     0.63463,     0.63564,     0.63664,     0.63764,     0.63864,     0.63964,     0.64064,     0.64164,     0.64264,     0.64364,     0.64464,     0.64565,     0.64665,     0.64765,\n",
       "           0.64865,     0.64965,     0.65065,     0.65165,     0.65265,     0.65365,     0.65465,     0.65566,     0.65666,     0.65766,     0.65866,     0.65966,     0.66066,     0.66166,     0.66266,     0.66366,     0.66466,     0.66567,     0.66667,     0.66767,     0.66867,     0.66967,     0.67067,     0.67167,\n",
       "           0.67267,     0.67367,     0.67467,     0.67568,     0.67668,     0.67768,     0.67868,     0.67968,     0.68068,     0.68168,     0.68268,     0.68368,     0.68468,     0.68569,     0.68669,     0.68769,     0.68869,     0.68969,     0.69069,     0.69169,     0.69269,     0.69369,     0.69469,      0.6957,\n",
       "            0.6967,      0.6977,      0.6987,      0.6997,      0.7007,      0.7017,      0.7027,      0.7037,      0.7047,     0.70571,     0.70671,     0.70771,     0.70871,     0.70971,     0.71071,     0.71171,     0.71271,     0.71371,     0.71471,     0.71572,     0.71672,     0.71772,     0.71872,     0.71972,\n",
       "           0.72072,     0.72172,     0.72272,     0.72372,     0.72472,     0.72573,     0.72673,     0.72773,     0.72873,     0.72973,     0.73073,     0.73173,     0.73273,     0.73373,     0.73473,     0.73574,     0.73674,     0.73774,     0.73874,     0.73974,     0.74074,     0.74174,     0.74274,     0.74374,\n",
       "           0.74474,     0.74575,     0.74675,     0.74775,     0.74875,     0.74975,     0.75075,     0.75175,     0.75275,     0.75375,     0.75475,     0.75576,     0.75676,     0.75776,     0.75876,     0.75976,     0.76076,     0.76176,     0.76276,     0.76376,     0.76476,     0.76577,     0.76677,     0.76777,\n",
       "           0.76877,     0.76977,     0.77077,     0.77177,     0.77277,     0.77377,     0.77477,     0.77578,     0.77678,     0.77778,     0.77878,     0.77978,     0.78078,     0.78178,     0.78278,     0.78378,     0.78478,     0.78579,     0.78679,     0.78779,     0.78879,     0.78979,     0.79079,     0.79179,\n",
       "           0.79279,     0.79379,     0.79479,      0.7958,      0.7968,      0.7978,      0.7988,      0.7998,      0.8008,      0.8018,      0.8028,      0.8038,      0.8048,     0.80581,     0.80681,     0.80781,     0.80881,     0.80981,     0.81081,     0.81181,     0.81281,     0.81381,     0.81481,     0.81582,\n",
       "           0.81682,     0.81782,     0.81882,     0.81982,     0.82082,     0.82182,     0.82282,     0.82382,     0.82482,     0.82583,     0.82683,     0.82783,     0.82883,     0.82983,     0.83083,     0.83183,     0.83283,     0.83383,     0.83483,     0.83584,     0.83684,     0.83784,     0.83884,     0.83984,\n",
       "           0.84084,     0.84184,     0.84284,     0.84384,     0.84484,     0.84585,     0.84685,     0.84785,     0.84885,     0.84985,     0.85085,     0.85185,     0.85285,     0.85385,     0.85485,     0.85586,     0.85686,     0.85786,     0.85886,     0.85986,     0.86086,     0.86186,     0.86286,     0.86386,\n",
       "           0.86486,     0.86587,     0.86687,     0.86787,     0.86887,     0.86987,     0.87087,     0.87187,     0.87287,     0.87387,     0.87487,     0.87588,     0.87688,     0.87788,     0.87888,     0.87988,     0.88088,     0.88188,     0.88288,     0.88388,     0.88488,     0.88589,     0.88689,     0.88789,\n",
       "           0.88889,     0.88989,     0.89089,     0.89189,     0.89289,     0.89389,     0.89489,      0.8959,      0.8969,      0.8979,      0.8989,      0.8999,      0.9009,      0.9019,      0.9029,      0.9039,      0.9049,     0.90591,     0.90691,     0.90791,     0.90891,     0.90991,     0.91091,     0.91191,\n",
       "           0.91291,     0.91391,     0.91491,     0.91592,     0.91692,     0.91792,     0.91892,     0.91992,     0.92092,     0.92192,     0.92292,     0.92392,     0.92492,     0.92593,     0.92693,     0.92793,     0.92893,     0.92993,     0.93093,     0.93193,     0.93293,     0.93393,     0.93493,     0.93594,\n",
       "           0.93694,     0.93794,     0.93894,     0.93994,     0.94094,     0.94194,     0.94294,     0.94394,     0.94494,     0.94595,     0.94695,     0.94795,     0.94895,     0.94995,     0.95095,     0.95195,     0.95295,     0.95395,     0.95495,     0.95596,     0.95696,     0.95796,     0.95896,     0.95996,\n",
       "           0.96096,     0.96196,     0.96296,     0.96396,     0.96496,     0.96597,     0.96697,     0.96797,     0.96897,     0.96997,     0.97097,     0.97197,     0.97297,     0.97397,     0.97497,     0.97598,     0.97698,     0.97798,     0.97898,     0.97998,     0.98098,     0.98198,     0.98298,     0.98398,\n",
       "           0.98498,     0.98599,     0.98699,     0.98799,     0.98899,     0.98999,     0.99099,     0.99199,     0.99299,     0.99399,     0.99499,       0.996,       0.997,       0.998,       0.999,           1]), array([[  0.0034524,   0.0034524,   0.0034524,   0.0041885,    0.005009,   0.0052606,   0.0054005,   0.0055816,   0.0060323,   0.0072331,    0.010532,    0.019067,     0.03394,    0.056659,     0.08255,     0.10135,     0.11683,     0.13906,     0.16166,     0.17598,     0.19152,     0.20611,     0.23657,\n",
       "            0.25337,     0.26919,     0.29332,     0.30798,     0.31594,     0.32072,     0.34247,     0.35764,     0.36832,      0.3778,     0.38589,     0.39235,     0.39679,     0.40048,     0.40602,     0.41373,      0.4169,     0.42056,     0.42592,     0.44121,     0.44469,     0.44817,     0.46836,\n",
       "            0.47335,     0.48125,       0.485,     0.48862,     0.49637,     0.49776,      0.4946,     0.49144,     0.49208,      0.4952,     0.49831,     0.50678,     0.51801,     0.52268,     0.52524,      0.5278,     0.53035,     0.54526,     0.55177,     0.54991,     0.55296,     0.58592,     0.58765,\n",
       "            0.58939,     0.59112,     0.59286,      0.5946,     0.59633,     0.59807,     0.59981,     0.66896,     0.68677,     0.69835,     0.70079,     0.69647,      0.6958,     0.69513,     0.69446,     0.69379,     0.69311,     0.69244,     0.69177,      0.6911,     0.69043,     0.68975,     0.68908,\n",
       "            0.68841,     0.68774,     0.69566,     0.70827,     0.72155,     0.73411,     0.74075,     0.74738,     0.75401,     0.76676,      0.7853,     0.78387,     0.78244,     0.78101,     0.77957,     0.77814,     0.77957,     0.78196,     0.78436,     0.78676,     0.78915,     0.79155,     0.79395,\n",
       "            0.79635,     0.79874,     0.80114,     0.80354,     0.80594,     0.80817,     0.80995,     0.81173,     0.81351,     0.81529,     0.81707,     0.81885,     0.82063,     0.82241,      0.8242,     0.82598,     0.82776,     0.82954,     0.83132,      0.8331,     0.83488,     0.83666,     0.83844,\n",
       "            0.83996,     0.83962,     0.83928,     0.83895,     0.83861,     0.83827,     0.83793,      0.8376,     0.83726,     0.83692,     0.83659,     0.83625,     0.83591,     0.83557,     0.83524,      0.8349,     0.83456,     0.83422,     0.83389,     0.83355,     0.83328,     0.83312,     0.83297,\n",
       "            0.83281,     0.83266,      0.8325,     0.83235,     0.83219,     0.83204,     0.83188,     0.83173,     0.83157,     0.83142,     0.83126,     0.83111,     0.83095,      0.8308,     0.83064,     0.83048,     0.83033,     0.83017,     0.83002,     0.82986,     0.82971,     0.82955,      0.8294,\n",
       "            0.82924,     0.82909,     0.82893,     0.82878,     0.82862,     0.82847,     0.82831,     0.82816,       0.828,     0.82785,     0.82769,     0.82754,     0.82738,     0.82723,     0.82707,     0.82692,     0.82676,     0.82661,     0.82645,      0.8263,     0.82614,     0.82694,     0.82824,\n",
       "            0.82954,     0.83084,     0.83214,     0.83344,     0.83474,     0.83604,     0.83734,     0.83864,     0.83994,     0.84124,     0.84254,     0.84384,     0.84514,     0.84644,     0.84774,     0.84904,     0.85034,     0.85164,     0.85294,     0.85424,     0.85554,     0.85684,     0.85814,\n",
       "            0.85944,     0.86074,     0.86204,     0.86334,     0.86355,     0.86344,     0.86333,     0.86322,     0.86311,       0.863,      0.8629,     0.86279,     0.86268,     0.86257,     0.86246,     0.86235,     0.86224,     0.86213,     0.86202,     0.86191,      0.8618,     0.86169,     0.86158,\n",
       "            0.86147,     0.86136,     0.86125,     0.86114,     0.86103,     0.86092,     0.86081,      0.8607,      0.8606,     0.86049,     0.86038,     0.86027,     0.86016,     0.86005,     0.85994,     0.85983,     0.85972,     0.85961,      0.8595,     0.85939,     0.85928,     0.85917,     0.85906,\n",
       "            0.85895,     0.85884,     0.85873,     0.85862,     0.85851,      0.8584,      0.8583,     0.85819,     0.85808,     0.85797,     0.85786,     0.85775,     0.85764,     0.85753,     0.85742,     0.85731,      0.8572,     0.85665,     0.85562,     0.85458,     0.85355,     0.85251,     0.85148,\n",
       "            0.85045,     0.84987,     0.84964,     0.84941,     0.84918,     0.84895,     0.84872,     0.84849,     0.84826,     0.84803,      0.8478,     0.84757,     0.84734,     0.84711,     0.84688,     0.84665,     0.84642,     0.84619,     0.84596,     0.84573,      0.8455,     0.84527,     0.84504,\n",
       "            0.84481,     0.84458,     0.84435,     0.84412,     0.84389,     0.84366,     0.84343,      0.8432,     0.84297,     0.84274,     0.84251,     0.84228,     0.84202,     0.84169,     0.84135,     0.84101,     0.84067,     0.84033,     0.83999,     0.83966,     0.83932,     0.83898,     0.83864,\n",
       "             0.8383,     0.83797,     0.83763,     0.83729,     0.83695,     0.83661,     0.83628,     0.83594,      0.8356,     0.83526,     0.83492,     0.83459,     0.83425,     0.83391,     0.83357,     0.83309,     0.83229,     0.83148,     0.83067,     0.82987,     0.82906,     0.82825,     0.82745,\n",
       "            0.82664,     0.82584,     0.82503,     0.82422,     0.82341,     0.82258,     0.82175,     0.82091,     0.82008,     0.81925,     0.81841,     0.81758,     0.81675,     0.81591,     0.81508,     0.81425,     0.81341,     0.81258,      0.8666,     0.86641,     0.86622,     0.86603,     0.86584,\n",
       "            0.86565,     0.86546,     0.86527,     0.86508,     0.86489,      0.8647,     0.86451,     0.86432,     0.86413,     0.86394,     0.86375,     0.86356,     0.86337,     0.86318,     0.86299,      0.8628,     0.86261,     0.86242,     0.86223,     0.86204,     0.86185,     0.86166,     0.86147,\n",
       "            0.86128,     0.86109,      0.8609,     0.86071,     0.86052,     0.86033,     0.86014,     0.85995,     0.85976,     0.85957,     0.85938,     0.85919,       0.859,     0.85881,     0.85862,     0.85843,     0.85824,     0.85805,     0.85786,     0.85767,     0.85748,     0.85729,     0.85664,\n",
       "            0.85411,     0.85159,     0.84906,     0.84654,     0.87195,     0.90236,      0.9158,     0.91418,     0.91255,     0.91092,     0.90929,     0.90061,      0.8967,     0.89318,     0.88965,     0.88867,     0.88839,     0.88811,     0.88784,     0.88756,     0.88728,       0.887,     0.88672,\n",
       "            0.88645,     0.88617,     0.88589,     0.88561,     0.88533,     0.88506,     0.88478,      0.8845,     0.88422,     0.88394,     0.88366,     0.88339,     0.88311,     0.88283,     0.88255,     0.88227,       0.882,     0.88172,     0.88144,     0.88116,     0.88088,     0.88061,     0.88033,\n",
       "            0.88005,     0.87977,     0.87949,     0.87921,     0.87894,     0.87866,     0.87838,      0.8781,     0.87782,     0.87755,     0.87727,     0.87699,     0.87671,     0.87643,     0.87616,     0.87588,      0.8756,     0.87532,     0.87504,     0.87475,     0.87445,     0.87415,     0.87385,\n",
       "            0.87355,     0.87325,     0.87295,     0.87265,     0.87236,     0.87206,     0.87176,     0.87146,     0.87116,     0.87086,     0.87056,     0.87026,     0.86996,     0.86967,     0.86937,     0.86907,     0.86877,     0.86847,     0.86817,     0.86787,     0.86757,     0.86727,     0.86697,\n",
       "            0.86668,     0.86638,     0.86608,     0.86578,     0.86548,     0.86518,     0.86488,     0.86458,     0.86428,     0.86399,     0.86369,     0.86339,     0.86309,     0.86279,     0.86249,     0.86219,     0.86189,     0.86159,      0.8613,       0.861,      0.8607,      0.8604,      0.8601,\n",
       "             0.8598,      0.8595,      0.8592,      0.8589,      0.8586,     0.85831,     0.85801,     0.85771,     0.85741,     0.85684,     0.85406,     0.85128,      0.8485,     0.84572,     0.84293,     0.84015,     0.83737,     0.83459,     0.83196,     0.82946,     0.82695,     0.82445,     0.82194,\n",
       "            0.81944,     0.81693,     0.81443,     0.81192,     0.80942,     0.80691,     0.80441,      0.8019,     0.80141,     0.80727,     0.81313,     0.81898,     0.82484,      0.8307,     0.83656,     0.84241,     0.84827,     0.85413,     0.85999,     0.86585,      0.8717,     0.87756,     0.88342,\n",
       "            0.88928,     0.89513,     0.90099,     0.90685,     0.91271,     0.91857,     0.92442,     0.93028,     0.93614,       0.942,     0.94785,     0.95371,     0.95957,     0.96543,     0.97129,     0.97714,       0.983,     0.98886,     0.99472,           1,           1,           1,           1,\n",
       "                  1,           1,           1,           1,           1,           1,           1,           1,           1,           1,           1,           1,           1,           1,           1,           1,           1,           1,           1,           1,           1,           1,           1,\n",
       "                  1,           1,           1,           1,           1,           1,           1,           1,           1,           1,           1,           1,           1,           1,           1,           1,           1,           1,           1,           1,           1,           1,           1,\n",
       "                  1,           1,           1,           1,           1,           1,           1,           1,           1,           1,           1,           1,           1,           1,           1,           1,           1,           1,           1,           1,           1,           1,           1,\n",
       "                  1,           1,           1,           1,           1,           1,           1,           1,           1,           1,           1,           1,           1,           1,           1,           1,           1,           1,           1,           1,           1,           1,           1,\n",
       "                  1,           1,           1,           1,           1,           1,           1,           1,           1,           1,           1,           1,           1,           1,           1,           1,           1,           1,           1,           1,           1,           1,           1,\n",
       "                  1,           1,           1,           1,           1,           1,           1,           1,           1,           1,           1,           1,           1,           1,           1,           1,           1,           1,           1,           1,           1,           1,           1,\n",
       "                  1,           1,           1,           1,           1,           1,           1,           1,           1,           1,           1,           1,           1,           1,           1,           1,           1,           1,           1,           1,           1,           1,           1,\n",
       "                  1,           1,           1,           1,           1,           1,           1,           1,           1,           1,           1,           1,           1,           1,           1,           1,           1,           1,           1,           1,           1,           1,           1,\n",
       "                  1,           1,           1,           1,           1,           1,           1,           1,           1,           1,           1,           1,           1,           1,           1,           1,           1,           1,           1,           1,           1,           1,           1,\n",
       "                  1,           1,           1,           1,           1,           1,           1,           1,           1,           1,           1,           1,           1,           1,           1,           1,           1,           1,           1,           1,           1,           1,           1,\n",
       "                  1,           1,           1,           1,           1,           1,           1,           1,           1,           1,           1,           1,           1,           1,           1,           1,           1,           1,           1,           1,           1,           1,           1,\n",
       "                  1,           1,           1,           1,           1,           1,           1,           1,           1,           1,           1,           1,           1,           1,           1,           1,           1,           1,           1,           1,           1,           1,           1,\n",
       "                  1,           1,           1,           1,           1,           1,           1,           1,           1,           1,           1,           1,           1,           1,           1,           1,           1,           1,           1,           1,           1,           1,           1,\n",
       "                  1,           1,           1,           1,           1,           1,           1,           1,           1,           1,           1,           1,           1,           1,           1,           1,           1,           1,           1,           1,           1,           1,           1,\n",
       "                  1,           1,           1,           1,           1,           1,           1,           1,           1,           1,           1,           1,           1,           1,           1,           1,           1,           1,           1,           1,           1,           1,           1,\n",
       "                  1,           1,           1,           1,           1,           1,           1,           1,           1,           1,           1,           1,           1,           1,           1,           1,           1,           1,           1,           1,           1,           1,           1,\n",
       "                  1,           1,           1,           1,           1,           1,           1,           1,           1,           1,           1]]), 'Confidence', 'Precision'], [array([          0,    0.001001,    0.002002,    0.003003,    0.004004,    0.005005,    0.006006,    0.007007,    0.008008,    0.009009,     0.01001,    0.011011,    0.012012,    0.013013,    0.014014,    0.015015,    0.016016,    0.017017,    0.018018,    0.019019,     0.02002,    0.021021,    0.022022,    0.023023,\n",
       "          0.024024,    0.025025,    0.026026,    0.027027,    0.028028,    0.029029,     0.03003,    0.031031,    0.032032,    0.033033,    0.034034,    0.035035,    0.036036,    0.037037,    0.038038,    0.039039,     0.04004,    0.041041,    0.042042,    0.043043,    0.044044,    0.045045,    0.046046,    0.047047,\n",
       "          0.048048,    0.049049,     0.05005,    0.051051,    0.052052,    0.053053,    0.054054,    0.055055,    0.056056,    0.057057,    0.058058,    0.059059,     0.06006,    0.061061,    0.062062,    0.063063,    0.064064,    0.065065,    0.066066,    0.067067,    0.068068,    0.069069,     0.07007,    0.071071,\n",
       "          0.072072,    0.073073,    0.074074,    0.075075,    0.076076,    0.077077,    0.078078,    0.079079,     0.08008,    0.081081,    0.082082,    0.083083,    0.084084,    0.085085,    0.086086,    0.087087,    0.088088,    0.089089,     0.09009,    0.091091,    0.092092,    0.093093,    0.094094,    0.095095,\n",
       "          0.096096,    0.097097,    0.098098,    0.099099,      0.1001,      0.1011,      0.1021,      0.1031,      0.1041,     0.10511,     0.10611,     0.10711,     0.10811,     0.10911,     0.11011,     0.11111,     0.11211,     0.11311,     0.11411,     0.11512,     0.11612,     0.11712,     0.11812,     0.11912,\n",
       "           0.12012,     0.12112,     0.12212,     0.12312,     0.12412,     0.12513,     0.12613,     0.12713,     0.12813,     0.12913,     0.13013,     0.13113,     0.13213,     0.13313,     0.13413,     0.13514,     0.13614,     0.13714,     0.13814,     0.13914,     0.14014,     0.14114,     0.14214,     0.14314,\n",
       "           0.14414,     0.14515,     0.14615,     0.14715,     0.14815,     0.14915,     0.15015,     0.15115,     0.15215,     0.15315,     0.15415,     0.15516,     0.15616,     0.15716,     0.15816,     0.15916,     0.16016,     0.16116,     0.16216,     0.16316,     0.16416,     0.16517,     0.16617,     0.16717,\n",
       "           0.16817,     0.16917,     0.17017,     0.17117,     0.17217,     0.17317,     0.17417,     0.17518,     0.17618,     0.17718,     0.17818,     0.17918,     0.18018,     0.18118,     0.18218,     0.18318,     0.18418,     0.18519,     0.18619,     0.18719,     0.18819,     0.18919,     0.19019,     0.19119,\n",
       "           0.19219,     0.19319,     0.19419,      0.1952,      0.1962,      0.1972,      0.1982,      0.1992,      0.2002,      0.2012,      0.2022,      0.2032,      0.2042,     0.20521,     0.20621,     0.20721,     0.20821,     0.20921,     0.21021,     0.21121,     0.21221,     0.21321,     0.21421,     0.21522,\n",
       "           0.21622,     0.21722,     0.21822,     0.21922,     0.22022,     0.22122,     0.22222,     0.22322,     0.22422,     0.22523,     0.22623,     0.22723,     0.22823,     0.22923,     0.23023,     0.23123,     0.23223,     0.23323,     0.23423,     0.23524,     0.23624,     0.23724,     0.23824,     0.23924,\n",
       "           0.24024,     0.24124,     0.24224,     0.24324,     0.24424,     0.24525,     0.24625,     0.24725,     0.24825,     0.24925,     0.25025,     0.25125,     0.25225,     0.25325,     0.25425,     0.25526,     0.25626,     0.25726,     0.25826,     0.25926,     0.26026,     0.26126,     0.26226,     0.26326,\n",
       "           0.26426,     0.26527,     0.26627,     0.26727,     0.26827,     0.26927,     0.27027,     0.27127,     0.27227,     0.27327,     0.27427,     0.27528,     0.27628,     0.27728,     0.27828,     0.27928,     0.28028,     0.28128,     0.28228,     0.28328,     0.28428,     0.28529,     0.28629,     0.28729,\n",
       "           0.28829,     0.28929,     0.29029,     0.29129,     0.29229,     0.29329,     0.29429,      0.2953,      0.2963,      0.2973,      0.2983,      0.2993,      0.3003,      0.3013,      0.3023,      0.3033,      0.3043,     0.30531,     0.30631,     0.30731,     0.30831,     0.30931,     0.31031,     0.31131,\n",
       "           0.31231,     0.31331,     0.31431,     0.31532,     0.31632,     0.31732,     0.31832,     0.31932,     0.32032,     0.32132,     0.32232,     0.32332,     0.32432,     0.32533,     0.32633,     0.32733,     0.32833,     0.32933,     0.33033,     0.33133,     0.33233,     0.33333,     0.33433,     0.33534,\n",
       "           0.33634,     0.33734,     0.33834,     0.33934,     0.34034,     0.34134,     0.34234,     0.34334,     0.34434,     0.34535,     0.34635,     0.34735,     0.34835,     0.34935,     0.35035,     0.35135,     0.35235,     0.35335,     0.35435,     0.35536,     0.35636,     0.35736,     0.35836,     0.35936,\n",
       "           0.36036,     0.36136,     0.36236,     0.36336,     0.36436,     0.36537,     0.36637,     0.36737,     0.36837,     0.36937,     0.37037,     0.37137,     0.37237,     0.37337,     0.37437,     0.37538,     0.37638,     0.37738,     0.37838,     0.37938,     0.38038,     0.38138,     0.38238,     0.38338,\n",
       "           0.38438,     0.38539,     0.38639,     0.38739,     0.38839,     0.38939,     0.39039,     0.39139,     0.39239,     0.39339,     0.39439,      0.3954,      0.3964,      0.3974,      0.3984,      0.3994,      0.4004,      0.4014,      0.4024,      0.4034,      0.4044,     0.40541,     0.40641,     0.40741,\n",
       "           0.40841,     0.40941,     0.41041,     0.41141,     0.41241,     0.41341,     0.41441,     0.41542,     0.41642,     0.41742,     0.41842,     0.41942,     0.42042,     0.42142,     0.42242,     0.42342,     0.42442,     0.42543,     0.42643,     0.42743,     0.42843,     0.42943,     0.43043,     0.43143,\n",
       "           0.43243,     0.43343,     0.43443,     0.43544,     0.43644,     0.43744,     0.43844,     0.43944,     0.44044,     0.44144,     0.44244,     0.44344,     0.44444,     0.44545,     0.44645,     0.44745,     0.44845,     0.44945,     0.45045,     0.45145,     0.45245,     0.45345,     0.45445,     0.45546,\n",
       "           0.45646,     0.45746,     0.45846,     0.45946,     0.46046,     0.46146,     0.46246,     0.46346,     0.46446,     0.46547,     0.46647,     0.46747,     0.46847,     0.46947,     0.47047,     0.47147,     0.47247,     0.47347,     0.47447,     0.47548,     0.47648,     0.47748,     0.47848,     0.47948,\n",
       "           0.48048,     0.48148,     0.48248,     0.48348,     0.48448,     0.48549,     0.48649,     0.48749,     0.48849,     0.48949,     0.49049,     0.49149,     0.49249,     0.49349,     0.49449,      0.4955,      0.4965,      0.4975,      0.4985,      0.4995,      0.5005,      0.5015,      0.5025,      0.5035,\n",
       "            0.5045,     0.50551,     0.50651,     0.50751,     0.50851,     0.50951,     0.51051,     0.51151,     0.51251,     0.51351,     0.51451,     0.51552,     0.51652,     0.51752,     0.51852,     0.51952,     0.52052,     0.52152,     0.52252,     0.52352,     0.52452,     0.52553,     0.52653,     0.52753,\n",
       "           0.52853,     0.52953,     0.53053,     0.53153,     0.53253,     0.53353,     0.53453,     0.53554,     0.53654,     0.53754,     0.53854,     0.53954,     0.54054,     0.54154,     0.54254,     0.54354,     0.54454,     0.54555,     0.54655,     0.54755,     0.54855,     0.54955,     0.55055,     0.55155,\n",
       "           0.55255,     0.55355,     0.55455,     0.55556,     0.55656,     0.55756,     0.55856,     0.55956,     0.56056,     0.56156,     0.56256,     0.56356,     0.56456,     0.56557,     0.56657,     0.56757,     0.56857,     0.56957,     0.57057,     0.57157,     0.57257,     0.57357,     0.57457,     0.57558,\n",
       "           0.57658,     0.57758,     0.57858,     0.57958,     0.58058,     0.58158,     0.58258,     0.58358,     0.58458,     0.58559,     0.58659,     0.58759,     0.58859,     0.58959,     0.59059,     0.59159,     0.59259,     0.59359,     0.59459,      0.5956,      0.5966,      0.5976,      0.5986,      0.5996,\n",
       "            0.6006,      0.6016,      0.6026,      0.6036,      0.6046,     0.60561,     0.60661,     0.60761,     0.60861,     0.60961,     0.61061,     0.61161,     0.61261,     0.61361,     0.61461,     0.61562,     0.61662,     0.61762,     0.61862,     0.61962,     0.62062,     0.62162,     0.62262,     0.62362,\n",
       "           0.62462,     0.62563,     0.62663,     0.62763,     0.62863,     0.62963,     0.63063,     0.63163,     0.63263,     0.63363,     0.63463,     0.63564,     0.63664,     0.63764,     0.63864,     0.63964,     0.64064,     0.64164,     0.64264,     0.64364,     0.64464,     0.64565,     0.64665,     0.64765,\n",
       "           0.64865,     0.64965,     0.65065,     0.65165,     0.65265,     0.65365,     0.65465,     0.65566,     0.65666,     0.65766,     0.65866,     0.65966,     0.66066,     0.66166,     0.66266,     0.66366,     0.66466,     0.66567,     0.66667,     0.66767,     0.66867,     0.66967,     0.67067,     0.67167,\n",
       "           0.67267,     0.67367,     0.67467,     0.67568,     0.67668,     0.67768,     0.67868,     0.67968,     0.68068,     0.68168,     0.68268,     0.68368,     0.68468,     0.68569,     0.68669,     0.68769,     0.68869,     0.68969,     0.69069,     0.69169,     0.69269,     0.69369,     0.69469,      0.6957,\n",
       "            0.6967,      0.6977,      0.6987,      0.6997,      0.7007,      0.7017,      0.7027,      0.7037,      0.7047,     0.70571,     0.70671,     0.70771,     0.70871,     0.70971,     0.71071,     0.71171,     0.71271,     0.71371,     0.71471,     0.71572,     0.71672,     0.71772,     0.71872,     0.71972,\n",
       "           0.72072,     0.72172,     0.72272,     0.72372,     0.72472,     0.72573,     0.72673,     0.72773,     0.72873,     0.72973,     0.73073,     0.73173,     0.73273,     0.73373,     0.73473,     0.73574,     0.73674,     0.73774,     0.73874,     0.73974,     0.74074,     0.74174,     0.74274,     0.74374,\n",
       "           0.74474,     0.74575,     0.74675,     0.74775,     0.74875,     0.74975,     0.75075,     0.75175,     0.75275,     0.75375,     0.75475,     0.75576,     0.75676,     0.75776,     0.75876,     0.75976,     0.76076,     0.76176,     0.76276,     0.76376,     0.76476,     0.76577,     0.76677,     0.76777,\n",
       "           0.76877,     0.76977,     0.77077,     0.77177,     0.77277,     0.77377,     0.77477,     0.77578,     0.77678,     0.77778,     0.77878,     0.77978,     0.78078,     0.78178,     0.78278,     0.78378,     0.78478,     0.78579,     0.78679,     0.78779,     0.78879,     0.78979,     0.79079,     0.79179,\n",
       "           0.79279,     0.79379,     0.79479,      0.7958,      0.7968,      0.7978,      0.7988,      0.7998,      0.8008,      0.8018,      0.8028,      0.8038,      0.8048,     0.80581,     0.80681,     0.80781,     0.80881,     0.80981,     0.81081,     0.81181,     0.81281,     0.81381,     0.81481,     0.81582,\n",
       "           0.81682,     0.81782,     0.81882,     0.81982,     0.82082,     0.82182,     0.82282,     0.82382,     0.82482,     0.82583,     0.82683,     0.82783,     0.82883,     0.82983,     0.83083,     0.83183,     0.83283,     0.83383,     0.83483,     0.83584,     0.83684,     0.83784,     0.83884,     0.83984,\n",
       "           0.84084,     0.84184,     0.84284,     0.84384,     0.84484,     0.84585,     0.84685,     0.84785,     0.84885,     0.84985,     0.85085,     0.85185,     0.85285,     0.85385,     0.85485,     0.85586,     0.85686,     0.85786,     0.85886,     0.85986,     0.86086,     0.86186,     0.86286,     0.86386,\n",
       "           0.86486,     0.86587,     0.86687,     0.86787,     0.86887,     0.86987,     0.87087,     0.87187,     0.87287,     0.87387,     0.87487,     0.87588,     0.87688,     0.87788,     0.87888,     0.87988,     0.88088,     0.88188,     0.88288,     0.88388,     0.88488,     0.88589,     0.88689,     0.88789,\n",
       "           0.88889,     0.88989,     0.89089,     0.89189,     0.89289,     0.89389,     0.89489,      0.8959,      0.8969,      0.8979,      0.8989,      0.8999,      0.9009,      0.9019,      0.9029,      0.9039,      0.9049,     0.90591,     0.90691,     0.90791,     0.90891,     0.90991,     0.91091,     0.91191,\n",
       "           0.91291,     0.91391,     0.91491,     0.91592,     0.91692,     0.91792,     0.91892,     0.91992,     0.92092,     0.92192,     0.92292,     0.92392,     0.92492,     0.92593,     0.92693,     0.92793,     0.92893,     0.92993,     0.93093,     0.93193,     0.93293,     0.93393,     0.93493,     0.93594,\n",
       "           0.93694,     0.93794,     0.93894,     0.93994,     0.94094,     0.94194,     0.94294,     0.94394,     0.94494,     0.94595,     0.94695,     0.94795,     0.94895,     0.94995,     0.95095,     0.95195,     0.95295,     0.95395,     0.95495,     0.95596,     0.95696,     0.95796,     0.95896,     0.95996,\n",
       "           0.96096,     0.96196,     0.96296,     0.96396,     0.96496,     0.96597,     0.96697,     0.96797,     0.96897,     0.96997,     0.97097,     0.97197,     0.97297,     0.97397,     0.97497,     0.97598,     0.97698,     0.97798,     0.97898,     0.97998,     0.98098,     0.98198,     0.98298,     0.98398,\n",
       "           0.98498,     0.98599,     0.98699,     0.98799,     0.98899,     0.98999,     0.99099,     0.99199,     0.99299,     0.99399,     0.99499,       0.996,       0.997,       0.998,       0.999,           1]), array([[          1,           1,           1,           1,           1,           1,           1,           1,           1,           1,           1,           1,     0.96552,     0.93103,     0.93103,     0.93103,     0.93103,     0.93103,     0.93103,     0.89655,     0.89655,     0.89655,     0.89655,\n",
       "            0.89655,     0.89655,     0.89655,     0.89655,     0.89655,     0.89655,     0.89655,     0.89655,     0.89655,     0.89655,     0.89655,     0.89655,     0.89655,     0.89655,     0.89655,     0.89655,     0.89655,     0.89655,     0.89655,     0.89655,     0.89655,     0.89655,     0.89655,\n",
       "            0.89655,     0.89655,     0.89655,     0.89655,     0.89655,     0.88866,     0.87755,     0.86645,     0.86207,     0.86207,     0.86207,     0.86207,     0.86207,     0.86207,     0.86207,     0.86207,     0.86207,     0.86207,     0.86207,     0.84279,     0.82759,     0.82759,     0.82759,\n",
       "            0.82759,     0.82759,     0.82759,     0.82759,     0.82759,     0.82759,     0.82759,     0.82759,     0.82759,     0.82759,      0.8079,      0.7913,     0.78885,      0.7864,     0.78396,     0.78151,     0.77906,     0.77662,     0.77417,     0.77172,     0.76927,     0.76683,     0.76438,\n",
       "            0.76193,     0.75948,     0.75862,     0.75862,     0.75862,     0.75862,     0.75862,     0.75862,     0.75862,     0.75862,     0.75682,      0.7506,     0.74438,     0.73816,     0.73194,     0.72572,     0.72414,     0.72414,     0.72414,     0.72414,     0.72414,     0.72414,     0.72414,\n",
       "            0.72414,     0.72414,     0.72414,     0.72414,     0.72414,     0.72414,     0.72414,     0.72414,     0.72414,     0.72414,     0.72414,     0.72414,     0.72414,     0.72414,     0.72414,     0.72414,     0.72414,     0.72414,     0.72414,     0.72414,     0.72414,     0.72414,     0.72414,\n",
       "            0.72392,     0.72218,     0.72043,     0.71869,     0.71694,      0.7152,     0.71345,     0.71171,     0.70997,     0.70822,     0.70648,     0.70473,     0.70299,     0.70124,      0.6995,     0.69776,     0.69601,     0.69427,     0.69252,     0.69078,     0.68939,     0.68865,     0.68792,\n",
       "            0.68718,     0.68644,      0.6857,     0.68496,     0.68422,     0.68348,     0.68275,     0.68201,     0.68127,     0.68053,     0.67979,     0.67905,     0.67832,     0.67758,     0.67684,      0.6761,     0.67536,     0.67462,     0.67389,     0.67315,     0.67241,     0.67167,     0.67093,\n",
       "            0.67019,     0.66946,     0.66872,     0.66798,     0.66724,      0.6665,     0.66576,     0.66503,     0.66429,     0.66355,     0.66281,     0.66207,     0.66133,     0.66059,     0.65986,     0.65912,     0.65838,     0.65764,      0.6569,     0.65616,     0.65543,     0.65517,     0.65517,\n",
       "            0.65517,     0.65517,     0.65517,     0.65517,     0.65517,     0.65517,     0.65517,     0.65517,     0.65517,     0.65517,     0.65517,     0.65517,     0.65517,     0.65517,     0.65517,     0.65517,     0.65517,     0.65517,     0.65517,     0.65517,     0.65517,     0.65517,     0.65517,\n",
       "            0.65517,     0.65517,     0.65517,     0.65517,     0.65473,     0.65414,     0.65356,     0.65298,      0.6524,     0.65182,     0.65124,     0.65065,     0.65007,     0.64949,     0.64891,     0.64833,     0.64775,     0.64716,     0.64658,       0.646,     0.64542,     0.64484,     0.64426,\n",
       "            0.64368,     0.64309,     0.64251,     0.64193,     0.64135,     0.64077,     0.64019,      0.6396,     0.63902,     0.63844,     0.63786,     0.63728,      0.6367,     0.63611,     0.63553,     0.63495,     0.63437,     0.63379,     0.63321,     0.63263,     0.63204,     0.63146,     0.63088,\n",
       "             0.6303,     0.62972,     0.62914,     0.62855,     0.62797,     0.62739,     0.62681,     0.62623,     0.62565,     0.62506,     0.62448,      0.6239,     0.62332,     0.62274,     0.62216,     0.62158,     0.62099,     0.61831,     0.61332,     0.60832,     0.60333,     0.59834,     0.59335,\n",
       "            0.58836,     0.58563,     0.58463,     0.58363,     0.58262,     0.58162,     0.58061,     0.57961,      0.5786,      0.5776,     0.57659,     0.57559,     0.57459,     0.57358,     0.57258,     0.57157,     0.57057,     0.56956,     0.56856,     0.56755,     0.56655,     0.56554,     0.56454,\n",
       "            0.56354,     0.56253,     0.56153,     0.56052,     0.55952,     0.55851,     0.55751,      0.5565,      0.5555,     0.55449,     0.55349,     0.55249,      0.5514,     0.55007,     0.54874,     0.54742,     0.54609,     0.54476,     0.54343,      0.5421,     0.54077,     0.53944,     0.53811,\n",
       "            0.53678,     0.53545,     0.53412,      0.5328,     0.53147,     0.53014,     0.52881,     0.52748,     0.52615,     0.52482,     0.52349,     0.52216,     0.52083,     0.51951,     0.51818,      0.5164,     0.51356,     0.51073,     0.50789,     0.50505,     0.50222,     0.49938,     0.49654,\n",
       "            0.49371,     0.49087,     0.48803,     0.48519,     0.48239,     0.47979,     0.47718,     0.47458,     0.47197,     0.46937,     0.46676,     0.46416,     0.46155,     0.45895,     0.45634,     0.45374,     0.45114,     0.44853,     0.44802,     0.44733,     0.44664,     0.44596,     0.44527,\n",
       "            0.44458,     0.44389,     0.44321,     0.44252,     0.44183,     0.44115,     0.44046,     0.43977,     0.43908,      0.4384,     0.43771,     0.43702,     0.43634,     0.43565,     0.43496,     0.43427,     0.43359,      0.4329,     0.43221,     0.43152,     0.43084,     0.43015,     0.42946,\n",
       "            0.42878,     0.42809,      0.4274,     0.42671,     0.42603,     0.42534,     0.42465,     0.42397,     0.42328,     0.42259,      0.4219,     0.42122,     0.42053,     0.41984,     0.41915,     0.41847,     0.41778,     0.41709,     0.41641,     0.41572,     0.41503,     0.41434,     0.41222,\n",
       "            0.40429,     0.39636,     0.38844,     0.38051,     0.37931,     0.37931,     0.37539,     0.36797,     0.36056,     0.35314,     0.34573,     0.31266,      0.3001,     0.28917,     0.27824,     0.27532,     0.27463,     0.27394,     0.27325,     0.27256,     0.27187,     0.27118,     0.27049,\n",
       "             0.2698,     0.26911,     0.26842,     0.26773,     0.26704,     0.26634,     0.26565,     0.26496,     0.26427,     0.26358,     0.26289,      0.2622,     0.26151,     0.26082,     0.26013,     0.25944,     0.25875,     0.25806,     0.25737,     0.25668,     0.25599,      0.2553,     0.25461,\n",
       "            0.25392,     0.25322,     0.25253,     0.25184,     0.25115,     0.25046,     0.24977,     0.24908,     0.24839,      0.2477,     0.24701,     0.24632,     0.24563,     0.24494,     0.24425,     0.24356,     0.24287,     0.24218,     0.24149,     0.24089,     0.24031,     0.23974,     0.23916,\n",
       "            0.23858,       0.238,     0.23743,     0.23685,     0.23627,      0.2357,     0.23512,     0.23454,     0.23396,     0.23339,     0.23281,     0.23223,     0.23165,     0.23108,      0.2305,     0.22992,     0.22935,     0.22877,     0.22819,     0.22761,     0.22704,     0.22646,     0.22588,\n",
       "            0.22531,     0.22473,     0.22415,     0.22357,       0.223,     0.22242,     0.22184,     0.22126,     0.22069,     0.22011,     0.21953,     0.21896,     0.21838,      0.2178,     0.21722,     0.21665,     0.21607,     0.21549,     0.21491,     0.21434,     0.21376,     0.21318,     0.21261,\n",
       "            0.21203,     0.21145,     0.21087,      0.2103,     0.20972,     0.20914,     0.20856,     0.20799,     0.20741,     0.20645,     0.20243,      0.1984,     0.19437,     0.19035,     0.18632,     0.18229,     0.17826,     0.17424,       0.171,      0.1684,     0.16581,     0.16322,     0.16063,\n",
       "            0.15804,     0.15545,     0.15286,     0.15026,     0.14767,     0.14508,     0.14249,      0.1399,     0.13793,     0.13793,     0.13793,     0.13793,     0.13793,     0.13793,     0.13793,     0.13793,     0.13793,     0.13793,     0.13793,     0.13793,     0.13793,     0.13793,     0.13793,\n",
       "            0.13793,     0.13793,     0.13793,     0.13793,     0.13793,     0.13793,     0.13793,     0.13793,     0.13793,     0.13793,     0.13793,     0.13793,     0.13793,     0.13793,     0.13793,     0.13793,     0.13793,     0.13793,     0.13793,     0.13783,     0.13677,     0.13571,     0.13465,\n",
       "             0.1336,     0.13254,     0.13148,     0.13042,     0.12937,     0.12831,     0.12725,     0.12619,     0.12514,     0.12408,     0.12302,     0.12196,     0.12091,     0.11985,     0.11879,     0.11773,     0.11667,     0.11562,     0.11456,      0.1135,     0.11244,     0.11139,     0.11033,\n",
       "            0.10927,     0.10821,     0.10716,      0.1061,     0.10504,     0.10398,      0.1023,    0.099978,    0.097656,    0.095333,    0.093011,    0.090689,    0.088366,    0.086044,    0.083722,    0.081399,    0.079077,    0.076755,    0.074433,     0.07211,    0.069788,    0.068843,    0.068653,\n",
       "           0.068462,    0.068272,    0.068082,    0.067892,    0.067702,    0.067511,    0.067321,    0.067131,    0.066941,    0.066751,    0.066561,     0.06637,     0.06618,     0.06599,      0.0658,     0.06561,     0.06542,    0.065229,    0.065039,    0.064849,    0.064659,    0.064469,    0.064279,\n",
       "           0.064088,    0.063898,    0.063708,    0.063518,    0.063328,    0.063137,    0.062947,    0.062757,    0.062567,    0.062377,    0.062187,    0.061996,    0.061806,    0.061616,    0.061426,    0.061236,    0.061046,    0.060855,    0.060665,    0.060475,    0.060285,    0.060095,    0.059905,\n",
       "           0.059714,    0.059524,    0.059334,    0.059144,    0.058954,    0.058764,    0.058573,    0.058383,    0.058193,    0.058003,    0.057813,    0.057622,    0.057432,    0.057242,    0.057052,    0.056862,    0.056672,    0.056481,    0.056291,    0.056101,    0.055911,    0.055721,    0.055531,\n",
       "            0.05534,     0.05515,     0.05496,     0.05477,     0.05458,     0.05439,    0.054199,    0.054009,    0.053819,    0.053629,    0.053439,    0.053248,    0.053058,    0.052868,    0.052678,    0.052488,    0.052298,    0.052107,    0.051917,    0.051727,    0.051537,    0.051347,    0.051157,\n",
       "           0.050966,    0.050776,    0.050586,    0.050396,    0.050206,    0.050016,    0.049825,    0.049635,    0.049445,    0.049255,    0.049065,    0.048874,    0.048684,    0.048494,    0.048304,    0.048114,    0.047924,    0.047733,    0.047543,    0.047353,    0.047163,    0.046973,    0.046783,\n",
       "           0.046592,    0.046402,    0.046212,    0.046022,    0.045832,    0.045642,    0.045451,    0.045261,    0.045071,    0.044881,    0.044691,    0.044501,     0.04431,     0.04412,     0.04393,     0.04374,     0.04355,    0.043359,    0.043169,    0.042979,    0.042789,    0.042599,    0.042409,\n",
       "           0.042218,    0.042028,    0.041838,    0.041648,    0.041458,    0.041268,    0.041077,    0.040887,    0.040697,    0.040507,    0.040317,    0.040127,    0.039936,    0.039746,    0.039556,    0.039366,    0.039176,    0.038985,    0.038795,    0.038605,    0.038415,    0.038225,    0.038035,\n",
       "           0.037844,    0.037654,    0.037464,    0.037274,    0.037084,    0.036894,    0.036703,    0.036513,    0.036323,    0.036133,    0.035943,    0.035753,    0.035562,    0.035372,    0.035182,    0.034992,    0.034802,    0.034612,           0,           0,           0,           0,           0,\n",
       "                  0,           0,           0,           0,           0,           0,           0,           0,           0,           0,           0,           0,           0,           0,           0,           0,           0,           0,           0,           0,           0,           0,           0,\n",
       "                  0,           0,           0,           0,           0,           0,           0,           0,           0,           0,           0,           0,           0,           0,           0,           0,           0,           0,           0,           0,           0,           0,           0,\n",
       "                  0,           0,           0,           0,           0,           0,           0,           0,           0,           0,           0,           0,           0,           0,           0,           0,           0,           0,           0,           0,           0,           0,           0,\n",
       "                  0,           0,           0,           0,           0,           0,           0,           0,           0,           0,           0,           0,           0,           0,           0,           0,           0,           0,           0,           0,           0,           0,           0,\n",
       "                  0,           0,           0,           0,           0,           0,           0,           0,           0,           0,           0,           0,           0,           0,           0,           0,           0,           0,           0,           0,           0,           0,           0,\n",
       "                  0,           0,           0,           0,           0,           0,           0,           0,           0,           0,           0,           0,           0,           0,           0,           0,           0,           0,           0,           0,           0,           0,           0,\n",
       "                  0,           0,           0,           0,           0,           0,           0,           0,           0,           0,           0]]), 'Confidence', 'Recall']]\n",
       "fitness: 0.4086394841650246\n",
       "keys: ['metrics/precision(B)', 'metrics/recall(B)', 'metrics/mAP50(B)', 'metrics/mAP50-95(B)']\n",
       "maps: array([    0.36794])\n",
       "names: {0: 'number_plate'}\n",
       "plot: True\n",
       "results_dict: {'metrics/precision(B)': 0.8372600574942838, 'metrics/recall(B)': 0.7099658146256059, 'metrics/mAP50(B)': 0.774966550554954, 'metrics/mAP50-95(B)': 0.3679364767883658, 'fitness': 0.4086394841650246}\n",
       "save_dir: WindowsPath('runs/detect/yolov8_helmet')\n",
       "speed: {'preprocess': 9.650869028908867, 'inference': 185.03969056265694, 'loss': 0.0, 'postprocess': 9.04951776776995}\n",
       "task: 'detect'"
      ]
     },
     "execution_count": 2,
     "metadata": {},
     "output_type": "execute_result"
    }
   ],
   "source": [
    "from ultralytics import YOLO\n",
    "\n",
    "# Define paths and settings\n",
    "dataset_path = r'C:\\Users\\user\\Desktop\\folder\\dataset2\\number_plate'  # Replace with the path to your dataset\n",
    "save_location = \"C:/Users/user/Desktop/folder/detection_models\"\n",
    "model_name = \"yolov8_helmet\"\n",
    "\n",
    "# Initialize the YOLOv8 model (use \"yolov8n.pt\" for Nano, \"yolov8s.pt\" for Small, etc.)\n",
    "model = YOLO(\"yolov8n.pt\")  # You can replace this with another YOLOv8 variant if needed\n",
    "\n",
    "# Train the model with reduced epochs and batch size\n",
    "model.train(\n",
    "    data=r'C:\\Users\\user\\Desktop\\folder\\dataset2\\dataset2.yaml',  # YAML file with dataset configuration\n",
    "    imgsz=640,                        # Image size for training\n",
    "    epochs=10,                        # Reduced number of training epochs\n",
    "    batch=8,                          # Reduced batch size\n",
    "    name=model_name,                  # Name for the experiment\n",
    "    save_dir=save_location            # Custom save location for the model\n",
    ")\n"
   ]
  },
  {
   "cell_type": "code",
   "execution_count": null,
   "id": "9b1f18e4",
   "metadata": {},
   "outputs": [],
   "source": []
  }
 ],
 "metadata": {
  "kernelspec": {
   "display_name": "Python 3 (ipykernel)",
   "language": "python",
   "name": "python3"
  },
  "language_info": {
   "codemirror_mode": {
    "name": "ipython",
    "version": 3
   },
   "file_extension": ".py",
   "mimetype": "text/x-python",
   "name": "python",
   "nbconvert_exporter": "python",
   "pygments_lexer": "ipython3",
   "version": "3.11.5"
  }
 },
 "nbformat": 4,
 "nbformat_minor": 5
}
